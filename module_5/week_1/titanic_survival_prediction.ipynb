{
 "cells": [
  {
   "cell_type": "markdown",
   "metadata": {},
   "source": [
    "**1. Download Dataset**"
   ]
  },
  {
   "cell_type": "code",
   "execution_count": 1,
   "metadata": {},
   "outputs": [
    {
     "name": "stderr",
     "output_type": "stream",
     "text": [
      "Downloading...\n",
      "From: https://drive.google.com/uc?id=1SFWQ7Zi83Gff-RVrlHj0z4Llm1Nq4BBA\n",
      "To: d:\\AIO2024\\module_5\\week_1\\titanic_modified_dataset.csv\n",
      "\n",
      "  0%|          | 0.00/25.9k [00:00<?, ?B/s]\n",
      "100%|██████████| 25.9k/25.9k [00:00<00:00, 1.01MB/s]\n"
     ]
    }
   ],
   "source": [
    "!gdown 1SFWQ7Zi83Gff-RVrlHj0z4Llm1Nq4BBA"
   ]
  },
  {
   "cell_type": "markdown",
   "metadata": {},
   "source": [
    "**2. Import libraries**"
   ]
  },
  {
   "cell_type": "code",
   "execution_count": 2,
   "metadata": {},
   "outputs": [],
   "source": [
    "import pandas as pd\n",
    "import numpy as np\n",
    "import matplotlib.pyplot as plt\n",
    "\n",
    "from sklearn.model_selection import train_test_split\n",
    "from sklearn.preprocessing import StandardScaler"
   ]
  },
  {
   "cell_type": "markdown",
   "metadata": {},
   "source": [
    "**3. Read data**"
   ]
  },
  {
   "cell_type": "code",
   "execution_count": 3,
   "metadata": {},
   "outputs": [
    {
     "data": {
      "text/html": [
       "<div>\n",
       "<style scoped>\n",
       "    .dataframe tbody tr th:only-of-type {\n",
       "        vertical-align: middle;\n",
       "    }\n",
       "\n",
       "    .dataframe tbody tr th {\n",
       "        vertical-align: top;\n",
       "    }\n",
       "\n",
       "    .dataframe thead th {\n",
       "        text-align: right;\n",
       "    }\n",
       "</style>\n",
       "<table border=\"1\" class=\"dataframe\">\n",
       "  <thead>\n",
       "    <tr style=\"text-align: right;\">\n",
       "      <th></th>\n",
       "      <th>Pclass</th>\n",
       "      <th>Sex</th>\n",
       "      <th>Age</th>\n",
       "      <th>SibSp</th>\n",
       "      <th>Parch</th>\n",
       "      <th>Fare</th>\n",
       "      <th>Embarked</th>\n",
       "      <th>Title</th>\n",
       "      <th>Survived</th>\n",
       "    </tr>\n",
       "    <tr>\n",
       "      <th>PassengerId</th>\n",
       "      <th></th>\n",
       "      <th></th>\n",
       "      <th></th>\n",
       "      <th></th>\n",
       "      <th></th>\n",
       "      <th></th>\n",
       "      <th></th>\n",
       "      <th></th>\n",
       "      <th></th>\n",
       "    </tr>\n",
       "  </thead>\n",
       "  <tbody>\n",
       "    <tr>\n",
       "      <th>1</th>\n",
       "      <td>3</td>\n",
       "      <td>0</td>\n",
       "      <td>22.0</td>\n",
       "      <td>1</td>\n",
       "      <td>0</td>\n",
       "      <td>7.2500</td>\n",
       "      <td>0</td>\n",
       "      <td>0</td>\n",
       "      <td>0</td>\n",
       "    </tr>\n",
       "    <tr>\n",
       "      <th>2</th>\n",
       "      <td>1</td>\n",
       "      <td>1</td>\n",
       "      <td>38.0</td>\n",
       "      <td>1</td>\n",
       "      <td>0</td>\n",
       "      <td>71.2833</td>\n",
       "      <td>1</td>\n",
       "      <td>1</td>\n",
       "      <td>1</td>\n",
       "    </tr>\n",
       "    <tr>\n",
       "      <th>3</th>\n",
       "      <td>3</td>\n",
       "      <td>1</td>\n",
       "      <td>26.0</td>\n",
       "      <td>0</td>\n",
       "      <td>0</td>\n",
       "      <td>7.9250</td>\n",
       "      <td>0</td>\n",
       "      <td>2</td>\n",
       "      <td>1</td>\n",
       "    </tr>\n",
       "    <tr>\n",
       "      <th>4</th>\n",
       "      <td>1</td>\n",
       "      <td>1</td>\n",
       "      <td>35.0</td>\n",
       "      <td>1</td>\n",
       "      <td>0</td>\n",
       "      <td>53.1000</td>\n",
       "      <td>0</td>\n",
       "      <td>1</td>\n",
       "      <td>1</td>\n",
       "    </tr>\n",
       "    <tr>\n",
       "      <th>5</th>\n",
       "      <td>3</td>\n",
       "      <td>0</td>\n",
       "      <td>35.0</td>\n",
       "      <td>0</td>\n",
       "      <td>0</td>\n",
       "      <td>8.0500</td>\n",
       "      <td>0</td>\n",
       "      <td>0</td>\n",
       "      <td>0</td>\n",
       "    </tr>\n",
       "  </tbody>\n",
       "</table>\n",
       "</div>"
      ],
      "text/plain": [
       "             Pclass  Sex   Age  SibSp  Parch     Fare  Embarked  Title  \\\n",
       "PassengerId                                                              \n",
       "1                 3    0  22.0      1      0   7.2500         0      0   \n",
       "2                 1    1  38.0      1      0  71.2833         1      1   \n",
       "3                 3    1  26.0      0      0   7.9250         0      2   \n",
       "4                 1    1  35.0      1      0  53.1000         0      1   \n",
       "5                 3    0  35.0      0      0   8.0500         0      0   \n",
       "\n",
       "             Survived  \n",
       "PassengerId            \n",
       "1                   0  \n",
       "2                   1  \n",
       "3                   1  \n",
       "4                   1  \n",
       "5                   0  "
      ]
     },
     "execution_count": 3,
     "metadata": {},
     "output_type": "execute_result"
    }
   ],
   "source": [
    "dataset_path = 'titanic_modified_dataset.csv'\n",
    "df = pd.read_csv(dataset_path, index_col='PassengerId')\n",
    "df.head()"
   ]
  },
  {
   "cell_type": "markdown",
   "metadata": {},
   "source": [
    "**4. Split feature and target**"
   ]
  },
  {
   "cell_type": "code",
   "execution_count": 4,
   "metadata": {},
   "outputs": [],
   "source": [
    "dataset_arr = df.to_numpy().astype(np.float64)\n",
    "X, y = dataset_arr[:, :-1], dataset_arr[:, -1]"
   ]
  },
  {
   "cell_type": "markdown",
   "metadata": {},
   "source": [
    "**5. Add bias to X**"
   ]
  },
  {
   "cell_type": "code",
   "execution_count": 5,
   "metadata": {},
   "outputs": [],
   "source": [
    "intercept =np.ones((X.shape[0], 1))\n",
    "X_b = np.concatenate((intercept, X), axis=1)"
   ]
  },
  {
   "cell_type": "markdown",
   "metadata": {},
   "source": [
    "**6. Train, val, test split**"
   ]
  },
  {
   "cell_type": "code",
   "execution_count": 6,
   "metadata": {},
   "outputs": [],
   "source": [
    "val_size = 0.2\n",
    "test_size = 0.125\n",
    "random_state = 42\n",
    "is_shuffle = True\n",
    "\n",
    "X_train, X_val, y_train, y_val = train_test_split(X_b, y, test_size=val_size, random_state=random_state, shuffle=is_shuffle)\n",
    "X_train, X_test, y_train, y_test = train_test_split(X_train, y_train, test_size=test_size, random_state=random_state, shuffle=is_shuffle)"
   ]
  },
  {
   "cell_type": "markdown",
   "metadata": {},
   "source": [
    "**7. Normalization**"
   ]
  },
  {
   "cell_type": "code",
   "execution_count": 7,
   "metadata": {},
   "outputs": [],
   "source": [
    "# Don't normalize the intercept term\n",
    "normalizer = StandardScaler()\n",
    "X_train[:, 1:] = normalizer.fit_transform(X_train[:, 1:])\n",
    "X_val[:, 1:] = normalizer.transform(X_val[:, 1:])\n",
    "X_test[:, 1:] = normalizer.transform(X_test[:, 1:])"
   ]
  },
  {
   "cell_type": "markdown",
   "metadata": {},
   "source": [
    "**8. Important functions**"
   ]
  },
  {
   "cell_type": "code",
   "execution_count": 8,
   "metadata": {},
   "outputs": [],
   "source": [
    "def sigmoid(z):\n",
    "    return 1 / (1 + np.exp(-z))"
   ]
  },
  {
   "cell_type": "code",
   "execution_count": 9,
   "metadata": {},
   "outputs": [],
   "source": [
    "def predict(X, theta):\n",
    "    dot_product = np.dot(X, theta)\n",
    "    y_hat = sigmoid(dot_product)\n",
    "    return y_hat"
   ]
  },
  {
   "cell_type": "code",
   "execution_count": 10,
   "metadata": {},
   "outputs": [],
   "source": [
    "def compute_loss(y_hat, y):\n",
    "    y_hat = np.clip(y_hat, 1e-10, 1 - 1e-10)\n",
    "    loss = (-y * np.log(y_hat) - (1 - y) * np.log(1 - y_hat)).mean()\n",
    "    return loss"
   ]
  },
  {
   "cell_type": "code",
   "execution_count": 11,
   "metadata": {},
   "outputs": [],
   "source": [
    "def compute_gradient(X, y, y_hat):\n",
    "    gradient = np.dot(X.T, (y_hat - y)) / y.size\n",
    "    return gradient"
   ]
  },
  {
   "cell_type": "code",
   "execution_count": 12,
   "metadata": {},
   "outputs": [],
   "source": [
    "def update_theta(theta, gradient, lr):\n",
    "    return theta - lr * gradient"
   ]
  },
  {
   "cell_type": "code",
   "execution_count": 13,
   "metadata": {},
   "outputs": [],
   "source": [
    "def compute_accuracy(X, y, theta):\n",
    "    y_hat = predict(X, theta).round()\n",
    "    acc = (y_hat == y).mean()\n",
    "    return acc"
   ]
  },
  {
   "cell_type": "markdown",
   "metadata": {},
   "source": [
    "**9. Declare hyperparameters and initialize weights**"
   ]
  },
  {
   "cell_type": "code",
   "execution_count": 14,
   "metadata": {},
   "outputs": [],
   "source": [
    "lr = 0.01\n",
    "epochs = 100\n",
    "batch_size = 16\n",
    "\n",
    "np.random.seed(random_state)\n",
    "theta = np.random.uniform(size=X_train.shape[1])"
   ]
  },
  {
   "cell_type": "markdown",
   "metadata": {},
   "source": [
    "**10. Training model**"
   ]
  },
  {
   "cell_type": "code",
   "execution_count": 15,
   "metadata": {},
   "outputs": [
    {
     "name": "stdout",
     "output_type": "stream",
     "text": [
      "\n",
      "Epoch 1/100 \tTraining loss: 0.8372 \tValidation loss: 0.8739\n",
      "\n",
      "Epoch 2/100 \tTraining loss: 0.7880 \tValidation loss: 0.8276\n",
      "\n",
      "Epoch 3/100 \tTraining loss: 0.7461 \tValidation loss: 0.7875\n",
      "\n",
      "Epoch 4/100 \tTraining loss: 0.7103 \tValidation loss: 0.7525\n",
      "\n",
      "Epoch 5/100 \tTraining loss: 0.6796 \tValidation loss: 0.7218\n",
      "\n",
      "Epoch 6/100 \tTraining loss: 0.6532 \tValidation loss: 0.6948\n",
      "\n",
      "Epoch 7/100 \tTraining loss: 0.6304 \tValidation loss: 0.6709\n",
      "\n",
      "Epoch 8/100 \tTraining loss: 0.6107 \tValidation loss: 0.6497\n",
      "\n",
      "Epoch 9/100 \tTraining loss: 0.5936 \tValidation loss: 0.6308\n",
      "\n",
      "Epoch 10/100 \tTraining loss: 0.5787 \tValidation loss: 0.6139\n",
      "\n",
      "Epoch 11/100 \tTraining loss: 0.5657 \tValidation loss: 0.5988\n",
      "\n",
      "Epoch 12/100 \tTraining loss: 0.5543 \tValidation loss: 0.5852\n",
      "\n",
      "Epoch 13/100 \tTraining loss: 0.5443 \tValidation loss: 0.5730\n",
      "\n",
      "Epoch 14/100 \tTraining loss: 0.5355 \tValidation loss: 0.5619\n",
      "\n",
      "Epoch 15/100 \tTraining loss: 0.5278 \tValidation loss: 0.5519\n",
      "\n",
      "Epoch 16/100 \tTraining loss: 0.5209 \tValidation loss: 0.5429\n",
      "\n",
      "Epoch 17/100 \tTraining loss: 0.5148 \tValidation loss: 0.5346\n",
      "\n",
      "Epoch 18/100 \tTraining loss: 0.5093 \tValidation loss: 0.5271\n",
      "\n",
      "Epoch 19/100 \tTraining loss: 0.5044 \tValidation loss: 0.5203\n",
      "\n",
      "Epoch 20/100 \tTraining loss: 0.5000 \tValidation loss: 0.5140\n",
      "\n",
      "Epoch 21/100 \tTraining loss: 0.4961 \tValidation loss: 0.5082\n",
      "\n",
      "Epoch 22/100 \tTraining loss: 0.4926 \tValidation loss: 0.5029\n",
      "\n",
      "Epoch 23/100 \tTraining loss: 0.4893 \tValidation loss: 0.4980\n",
      "\n",
      "Epoch 24/100 \tTraining loss: 0.4864 \tValidation loss: 0.4935\n",
      "\n",
      "Epoch 25/100 \tTraining loss: 0.4838 \tValidation loss: 0.4894\n",
      "\n",
      "Epoch 26/100 \tTraining loss: 0.4814 \tValidation loss: 0.4855\n",
      "\n",
      "Epoch 27/100 \tTraining loss: 0.4792 \tValidation loss: 0.4819\n",
      "\n",
      "Epoch 28/100 \tTraining loss: 0.4772 \tValidation loss: 0.4786\n",
      "\n",
      "Epoch 29/100 \tTraining loss: 0.4753 \tValidation loss: 0.4755\n",
      "\n",
      "Epoch 30/100 \tTraining loss: 0.4736 \tValidation loss: 0.4726\n",
      "\n",
      "Epoch 31/100 \tTraining loss: 0.4721 \tValidation loss: 0.4699\n",
      "\n",
      "Epoch 32/100 \tTraining loss: 0.4706 \tValidation loss: 0.4673\n",
      "\n",
      "Epoch 33/100 \tTraining loss: 0.4693 \tValidation loss: 0.4650\n",
      "\n",
      "Epoch 34/100 \tTraining loss: 0.4681 \tValidation loss: 0.4627\n",
      "\n",
      "Epoch 35/100 \tTraining loss: 0.4669 \tValidation loss: 0.4606\n",
      "\n",
      "Epoch 36/100 \tTraining loss: 0.4659 \tValidation loss: 0.4587\n",
      "\n",
      "Epoch 37/100 \tTraining loss: 0.4649 \tValidation loss: 0.4568\n",
      "\n",
      "Epoch 38/100 \tTraining loss: 0.4640 \tValidation loss: 0.4550\n",
      "\n",
      "Epoch 39/100 \tTraining loss: 0.4631 \tValidation loss: 0.4534\n",
      "\n",
      "Epoch 40/100 \tTraining loss: 0.4623 \tValidation loss: 0.4518\n",
      "\n",
      "Epoch 41/100 \tTraining loss: 0.4616 \tValidation loss: 0.4503\n",
      "\n",
      "Epoch 42/100 \tTraining loss: 0.4609 \tValidation loss: 0.4489\n",
      "\n",
      "Epoch 43/100 \tTraining loss: 0.4602 \tValidation loss: 0.4476\n",
      "\n",
      "Epoch 44/100 \tTraining loss: 0.4596 \tValidation loss: 0.4463\n",
      "\n",
      "Epoch 45/100 \tTraining loss: 0.4591 \tValidation loss: 0.4451\n",
      "\n",
      "Epoch 46/100 \tTraining loss: 0.4585 \tValidation loss: 0.4439\n",
      "\n",
      "Epoch 47/100 \tTraining loss: 0.4580 \tValidation loss: 0.4428\n",
      "\n",
      "Epoch 48/100 \tTraining loss: 0.4575 \tValidation loss: 0.4418\n",
      "\n",
      "Epoch 49/100 \tTraining loss: 0.4571 \tValidation loss: 0.4408\n",
      "\n",
      "Epoch 50/100 \tTraining loss: 0.4567 \tValidation loss: 0.4398\n",
      "\n",
      "Epoch 51/100 \tTraining loss: 0.4563 \tValidation loss: 0.4389\n",
      "\n",
      "Epoch 52/100 \tTraining loss: 0.4559 \tValidation loss: 0.4381\n",
      "\n",
      "Epoch 53/100 \tTraining loss: 0.4556 \tValidation loss: 0.4372\n",
      "\n",
      "Epoch 54/100 \tTraining loss: 0.4552 \tValidation loss: 0.4364\n",
      "\n",
      "Epoch 55/100 \tTraining loss: 0.4549 \tValidation loss: 0.4357\n",
      "\n",
      "Epoch 56/100 \tTraining loss: 0.4546 \tValidation loss: 0.4349\n",
      "\n",
      "Epoch 57/100 \tTraining loss: 0.4543 \tValidation loss: 0.4342\n",
      "\n",
      "Epoch 58/100 \tTraining loss: 0.4541 \tValidation loss: 0.4336\n",
      "\n",
      "Epoch 59/100 \tTraining loss: 0.4538 \tValidation loss: 0.4329\n",
      "\n",
      "Epoch 60/100 \tTraining loss: 0.4536 \tValidation loss: 0.4323\n",
      "\n",
      "Epoch 61/100 \tTraining loss: 0.4533 \tValidation loss: 0.4317\n",
      "\n",
      "Epoch 62/100 \tTraining loss: 0.4531 \tValidation loss: 0.4311\n",
      "\n",
      "Epoch 63/100 \tTraining loss: 0.4529 \tValidation loss: 0.4306\n",
      "\n",
      "Epoch 64/100 \tTraining loss: 0.4527 \tValidation loss: 0.4301\n",
      "\n",
      "Epoch 65/100 \tTraining loss: 0.4525 \tValidation loss: 0.4295\n",
      "\n",
      "Epoch 66/100 \tTraining loss: 0.4523 \tValidation loss: 0.4291\n",
      "\n",
      "Epoch 67/100 \tTraining loss: 0.4522 \tValidation loss: 0.4286\n",
      "\n",
      "Epoch 68/100 \tTraining loss: 0.4520 \tValidation loss: 0.4281\n",
      "\n",
      "Epoch 69/100 \tTraining loss: 0.4519 \tValidation loss: 0.4277\n",
      "\n",
      "Epoch 70/100 \tTraining loss: 0.4517 \tValidation loss: 0.4273\n",
      "\n",
      "Epoch 71/100 \tTraining loss: 0.4516 \tValidation loss: 0.4269\n",
      "\n",
      "Epoch 72/100 \tTraining loss: 0.4515 \tValidation loss: 0.4265\n",
      "\n",
      "Epoch 73/100 \tTraining loss: 0.4513 \tValidation loss: 0.4261\n",
      "\n",
      "Epoch 74/100 \tTraining loss: 0.4512 \tValidation loss: 0.4257\n",
      "\n",
      "Epoch 75/100 \tTraining loss: 0.4511 \tValidation loss: 0.4254\n",
      "\n",
      "Epoch 76/100 \tTraining loss: 0.4510 \tValidation loss: 0.4250\n",
      "\n",
      "Epoch 77/100 \tTraining loss: 0.4509 \tValidation loss: 0.4247\n",
      "\n",
      "Epoch 78/100 \tTraining loss: 0.4508 \tValidation loss: 0.4244\n",
      "\n",
      "Epoch 79/100 \tTraining loss: 0.4507 \tValidation loss: 0.4241\n",
      "\n",
      "Epoch 80/100 \tTraining loss: 0.4506 \tValidation loss: 0.4238\n",
      "\n",
      "Epoch 81/100 \tTraining loss: 0.4505 \tValidation loss: 0.4235\n",
      "\n",
      "Epoch 82/100 \tTraining loss: 0.4504 \tValidation loss: 0.4232\n",
      "\n",
      "Epoch 83/100 \tTraining loss: 0.4503 \tValidation loss: 0.4229\n",
      "\n",
      "Epoch 84/100 \tTraining loss: 0.4503 \tValidation loss: 0.4227\n",
      "\n",
      "Epoch 85/100 \tTraining loss: 0.4502 \tValidation loss: 0.4224\n",
      "\n",
      "Epoch 86/100 \tTraining loss: 0.4501 \tValidation loss: 0.4222\n",
      "\n",
      "Epoch 87/100 \tTraining loss: 0.4500 \tValidation loss: 0.4220\n",
      "\n",
      "Epoch 88/100 \tTraining loss: 0.4500 \tValidation loss: 0.4217\n",
      "\n",
      "Epoch 89/100 \tTraining loss: 0.4499 \tValidation loss: 0.4215\n",
      "\n",
      "Epoch 90/100 \tTraining loss: 0.4499 \tValidation loss: 0.4213\n",
      "\n",
      "Epoch 91/100 \tTraining loss: 0.4498 \tValidation loss: 0.4211\n",
      "\n",
      "Epoch 92/100 \tTraining loss: 0.4497 \tValidation loss: 0.4209\n",
      "\n",
      "Epoch 93/100 \tTraining loss: 0.4497 \tValidation loss: 0.4207\n",
      "\n",
      "Epoch 94/100 \tTraining loss: 0.4496 \tValidation loss: 0.4205\n",
      "\n",
      "Epoch 95/100 \tTraining loss: 0.4496 \tValidation loss: 0.4203\n",
      "\n",
      "Epoch 96/100 \tTraining loss: 0.4495 \tValidation loss: 0.4201\n",
      "\n",
      "Epoch 97/100 \tTraining loss: 0.4495 \tValidation loss: 0.4199\n",
      "\n",
      "Epoch 98/100 \tTraining loss: 0.4495 \tValidation loss: 0.4198\n",
      "\n",
      "Epoch 99/100 \tTraining loss: 0.4494 \tValidation loss: 0.4196\n",
      "\n",
      "Epoch 100/100 \tTraining loss: 0.4494 \tValidation loss: 0.4194\n"
     ]
    }
   ],
   "source": [
    "train_accs = []\n",
    "train_losses = []\n",
    "val_accs = []\n",
    "val_losses = []\n",
    "\n",
    "for epoch in range(epochs):\n",
    "    train_batch_losses = []\n",
    "    train_batch_accs = []\n",
    "    val_batch_losses = []\n",
    "    val_batch_accs = []\n",
    "\n",
    "    for i in range(0, X_train.shape[0], batch_size):\n",
    "        X_i = X_train[i: i + batch_size]\n",
    "        y_i = y_train[i: i + batch_size]\n",
    "\n",
    "        y_hat = predict(X_i, theta)\n",
    "\n",
    "        train_loss = compute_loss(y_hat, y_i)\n",
    "\n",
    "        gradient = compute_gradient(X_i, y_i, y_hat)\n",
    "\n",
    "        theta = update_theta(theta, gradient, lr)\n",
    "\n",
    "        train_batch_losses.append(train_loss)\n",
    "        train_batch_accs.append(compute_accuracy(X_i, y_i, theta))\n",
    "\n",
    "        y_val_hat = predict(X_val, theta)\n",
    "        val_loss = compute_loss(y_val_hat, y_val)\n",
    "        val_batch_losses.append(val_loss)\n",
    "        val_batch_accs.append(compute_accuracy(X_val, y_val, theta))\n",
    "\n",
    "    train_losses.append(np.mean(train_batch_losses))\n",
    "    train_accs.append(np.mean(train_batch_accs))\n",
    "    val_losses.append(np.mean(val_batch_losses))\n",
    "    val_accs.append(np.mean(val_batch_accs))\n",
    "\n",
    "    print(f'\\nEpoch {epoch + 1}/{epochs} \\tTraining loss: {train_losses[-1]:.4f} \\tValidation loss: {val_losses[-1]:.4f}')"
   ]
  },
  {
   "cell_type": "code",
   "execution_count": 16,
   "metadata": {},
   "outputs": [
    {
     "data": {
      "image/png": "[encoded data removed]",
      "text/plain": [
       "<Figure size 1200x1000 with 4 Axes>"
      ]
     },
     "metadata": {},
     "output_type": "display_data"
    }
   ],
   "source": [
    "fig, ax = plt.subplots(2, 2, figsize=(12, 10))\n",
    "ax[0, 0].plot(train_losses, label='Training loss')\n",
    "ax[0, 0].set(xlabel='Epochs', ylabel='Loss')\n",
    "ax[0, 0].set_title('Training Loss')\n",
    "\n",
    "ax[0, 1].plot(val_losses, label='Validation loss', color='orange')\n",
    "ax[0, 1].set(xlabel='Epochs', ylabel='Loss')\n",
    "ax[0, 1].set_title('Validation Loss')\n",
    "\n",
    "ax[1, 0].plot(train_accs, label='Training accuracy')\n",
    "ax[1, 0].set(xlabel='Epochs', ylabel='Accuracy')\n",
    "ax[1, 0].set_title('Training Accuracy')\n",
    "\n",
    "ax[1, 1].plot(val_accs, label='Validation accuracy', color='orange')\n",
    "ax[1, 1].set(xlabel='Epochs', ylabel='Accuracy')\n",
    "ax[1, 1].set_title('Validation Accuracy')\n",
    "\n",
    "plt.tight_layout()\n",
    "plt.show()\n"
   ]
  },
  {
   "cell_type": "markdown",
   "metadata": {},
   "source": [
    "**11. Evaluation model**"
   ]
  },
  {
   "cell_type": "code",
   "execution_count": 17,
   "metadata": {},
   "outputs": [
    {
     "name": "stdout",
     "output_type": "stream",
     "text": [
      "Evaluation on validation and test set:\n",
      "Validation set accuracy: 0.7933\n",
      "Test set accuracy: 0.8427\n"
     ]
    }
   ],
   "source": [
    "val_set_acc = compute_accuracy(X_val, y_val, theta)\n",
    "test_set_acc = compute_accuracy(X_test, y_test, theta)\n",
    "print(f'Evaluation on validation and test set:')\n",
    "print(f'Validation set accuracy: {val_set_acc:.4f}')\n",
    "print(f'Test set accuracy: {test_set_acc:.4f}')"
   ]
  }
 ],
 "metadata": {
  "kernelspec": {
   "display_name": "base",
   "language": "python",
   "name": "python3"
  },
  "language_info": {
   "codemirror_mode": {
    "name": "ipython",
    "version": 3
   },
   "file_extension": ".py",
   "mimetype": "text/x-python",
   "name": "python",
   "nbconvert_exporter": "python",
   "pygments_lexer": "ipython3",
   "version": "3.12.3"
  }
 },
 "nbformat": 4,
 "nbformat_minor": 2
}
