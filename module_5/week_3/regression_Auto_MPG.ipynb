{
 "cells": [
  {
   "cell_type": "markdown",
   "metadata": {},
   "source": [
    "**Tải bộ dữ liệu**"
   ]
  },
  {
   "cell_type": "code",
   "execution_count": 1,
   "metadata": {},
   "outputs": [
    {
     "name": "stderr",
     "output_type": "stream",
     "text": [
      "D:\\Miniconda3\\Lib\\site-packages\\gdown\\__main__.py:140: FutureWarning: Option `--id` was deprecated in version 4.3.1 and will be removed in 5.0. You don't need to pass it anymore to use a file ID.\n",
      "  warnings.warn(\n",
      "Downloading...\n",
      "From: https://drive.google.com/uc?id=1qiUDDoYyRLBiKOoYWdFl_5WByHE8Cugu\n",
      "To: d:\\AIO2024\\module_5\\week_3\\Auto_MPG_data.csv\n",
      "\n",
      "  0%|          | 0.00/15.4k [00:00<?, ?B/s]\n",
      "100%|██████████| 15.4k/15.4k [00:00<00:00, 7.70MB/s]\n"
     ]
    }
   ],
   "source": [
    "!gdown --id 1qiUDDoYyRLBiKOoYWdFl_5WByHE8Cugu"
   ]
  },
  {
   "cell_type": "markdown",
   "metadata": {},
   "source": [
    "**Import các thư viện cần thiết**"
   ]
  },
  {
   "cell_type": "code",
   "execution_count": 2,
   "metadata": {},
   "outputs": [],
   "source": [
    "import numpy as np\n",
    "import pandas as pd\n",
    "import matplotlib.pyplot as plt\n",
    "import torch\n",
    "import torch.nn as nn\n",
    "import torch.nn.functional as F\n",
    "from torch.utils.data import DataLoader, Dataset\n",
    "\n",
    "from sklearn.model_selection import train_test_split\n",
    "from sklearn.preprocessing import StandardScaler"
   ]
  },
  {
   "cell_type": "markdown",
   "metadata": {},
   "source": [
    "**Cài đặt giá trị ngẫu nhiên cố định**"
   ]
  },
  {
   "cell_type": "code",
   "execution_count": 3,
   "metadata": {},
   "outputs": [],
   "source": [
    "random_state = 59\n",
    "np.random.seed(random_state)\n",
    "torch.manual_seed(random_state)\n",
    "if torch.cuda.is_available():\n",
    "    torch.cuda.manual_seed(random_state)"
   ]
  },
  {
   "cell_type": "markdown",
   "metadata": {},
   "source": [
    "**Cài đặt thiết bị tính toán**"
   ]
  },
  {
   "cell_type": "code",
   "execution_count": 4,
   "metadata": {},
   "outputs": [
    {
     "data": {
      "text/plain": [
       "device(type='cuda')"
      ]
     },
     "execution_count": 4,
     "metadata": {},
     "output_type": "execute_result"
    }
   ],
   "source": [
    "device = torch.device('cuda' if torch.cuda.is_available() else 'cpu')\n",
    "device"
   ]
  },
  {
   "cell_type": "markdown",
   "metadata": {},
   "source": [
    "**Đọc bộ dữ liệu**"
   ]
  },
  {
   "cell_type": "code",
   "execution_count": 5,
   "metadata": {},
   "outputs": [
    {
     "data": {
      "text/html": [
       "<div>\n",
       "<style scoped>\n",
       "    .dataframe tbody tr th:only-of-type {\n",
       "        vertical-align: middle;\n",
       "    }\n",
       "\n",
       "    .dataframe tbody tr th {\n",
       "        vertical-align: top;\n",
       "    }\n",
       "\n",
       "    .dataframe thead th {\n",
       "        text-align: right;\n",
       "    }\n",
       "</style>\n",
       "<table border=\"1\" class=\"dataframe\">\n",
       "  <thead>\n",
       "    <tr style=\"text-align: right;\">\n",
       "      <th></th>\n",
       "      <th>MPG</th>\n",
       "      <th>Cylinders</th>\n",
       "      <th>Displacement</th>\n",
       "      <th>Horsepower</th>\n",
       "      <th>Weight</th>\n",
       "      <th>Acceleration</th>\n",
       "      <th>Model Year</th>\n",
       "      <th>Europe</th>\n",
       "      <th>Japan</th>\n",
       "      <th>USA</th>\n",
       "    </tr>\n",
       "  </thead>\n",
       "  <tbody>\n",
       "    <tr>\n",
       "      <th>0</th>\n",
       "      <td>18.0</td>\n",
       "      <td>8</td>\n",
       "      <td>307.0</td>\n",
       "      <td>130.0</td>\n",
       "      <td>3504.0</td>\n",
       "      <td>12.0</td>\n",
       "      <td>70</td>\n",
       "      <td>0</td>\n",
       "      <td>0</td>\n",
       "      <td>1</td>\n",
       "    </tr>\n",
       "    <tr>\n",
       "      <th>1</th>\n",
       "      <td>15.0</td>\n",
       "      <td>8</td>\n",
       "      <td>350.0</td>\n",
       "      <td>165.0</td>\n",
       "      <td>3693.0</td>\n",
       "      <td>11.5</td>\n",
       "      <td>70</td>\n",
       "      <td>0</td>\n",
       "      <td>0</td>\n",
       "      <td>1</td>\n",
       "    </tr>\n",
       "    <tr>\n",
       "      <th>2</th>\n",
       "      <td>18.0</td>\n",
       "      <td>8</td>\n",
       "      <td>318.0</td>\n",
       "      <td>150.0</td>\n",
       "      <td>3436.0</td>\n",
       "      <td>11.0</td>\n",
       "      <td>70</td>\n",
       "      <td>0</td>\n",
       "      <td>0</td>\n",
       "      <td>1</td>\n",
       "    </tr>\n",
       "    <tr>\n",
       "      <th>3</th>\n",
       "      <td>16.0</td>\n",
       "      <td>8</td>\n",
       "      <td>304.0</td>\n",
       "      <td>150.0</td>\n",
       "      <td>3433.0</td>\n",
       "      <td>12.0</td>\n",
       "      <td>70</td>\n",
       "      <td>0</td>\n",
       "      <td>0</td>\n",
       "      <td>1</td>\n",
       "    </tr>\n",
       "    <tr>\n",
       "      <th>4</th>\n",
       "      <td>17.0</td>\n",
       "      <td>8</td>\n",
       "      <td>302.0</td>\n",
       "      <td>140.0</td>\n",
       "      <td>3449.0</td>\n",
       "      <td>10.5</td>\n",
       "      <td>70</td>\n",
       "      <td>0</td>\n",
       "      <td>0</td>\n",
       "      <td>1</td>\n",
       "    </tr>\n",
       "  </tbody>\n",
       "</table>\n",
       "</div>"
      ],
      "text/plain": [
       "    MPG  Cylinders  Displacement  Horsepower  Weight  Acceleration  \\\n",
       "0  18.0          8         307.0       130.0  3504.0          12.0   \n",
       "1  15.0          8         350.0       165.0  3693.0          11.5   \n",
       "2  18.0          8         318.0       150.0  3436.0          11.0   \n",
       "3  16.0          8         304.0       150.0  3433.0          12.0   \n",
       "4  17.0          8         302.0       140.0  3449.0          10.5   \n",
       "\n",
       "   Model Year  Europe  Japan  USA  \n",
       "0          70       0      0    1  \n",
       "1          70       0      0    1  \n",
       "2          70       0      0    1  \n",
       "3          70       0      0    1  \n",
       "4          70       0      0    1  "
      ]
     },
     "execution_count": 5,
     "metadata": {},
     "output_type": "execute_result"
    }
   ],
   "source": [
    "dataset_path = 'Auto_MPG_data.csv'\n",
    "dataset = pd.read_csv(dataset_path)\n",
    "dataset.head()"
   ]
  },
  {
   "cell_type": "markdown",
   "metadata": {},
   "source": [
    "**Tiền xử lý bộ dữ liệu**"
   ]
  },
  {
   "cell_type": "code",
   "execution_count": 6,
   "metadata": {},
   "outputs": [],
   "source": [
    "X = dataset.drop(columns='MPG').values\n",
    "y = dataset['MPG'].values"
   ]
  },
  {
   "cell_type": "code",
   "execution_count": null,
   "metadata": {},
   "outputs": [],
   "source": [
    "val_size = 0.2\n",
    "test_size = 0.125\n",
    "is_shuffle = True\n",
    "\n",
    "X_train, X_val, y_train, y_val = train_test_split(X, y, test_size=val_size,\n",
    "                                                  random_state=random_state,\n",
    "                                                  shuffle=is_shuffle)\n",
    "X_train, X_test, y_train, y_test = train_test_split(X_train, y_train,\n",
    "                                                    test_size=test_size,\n",
    "                                                    random_state=random_state,\n",
    "                                                    shuffle=is_shuffle)"
   ]
  },
  {
   "cell_type": "code",
   "execution_count": 8,
   "metadata": {},
   "outputs": [],
   "source": [
    "normalizer = StandardScaler()\n",
    "X_train = normalizer.fit_transform(X_train)\n",
    "X_val = normalizer.transform(X_val)\n",
    "X_test = normalizer.transform(X_test)\n",
    "\n",
    "X_train = torch.tensor(X_train, dtype=torch.float32)\n",
    "y_train = torch.tensor(y_train, dtype=torch.float32)\n",
    "X_val = torch.tensor(X_val, dtype=torch.float32)\n",
    "y_val = torch.tensor(y_val, dtype=torch.float32)\n",
    "X_test = torch.tensor(X_test, dtype=torch.float32)\n",
    "y_test = torch.tensor(y_test, dtype=torch.float32)"
   ]
  },
  {
   "cell_type": "markdown",
   "metadata": {},
   "source": [
    "**Xây dựng DataLoader**"
   ]
  },
  {
   "cell_type": "code",
   "execution_count": 9,
   "metadata": {},
   "outputs": [],
   "source": [
    "class CustomDataset(Dataset):\n",
    "    def __init__(self, X, y):\n",
    "        self.X = X\n",
    "        self.y = y\n",
    "\n",
    "    def __len__(self):\n",
    "        return len(self.X)\n",
    "\n",
    "    def __getitem__(self, idx):\n",
    "        return self.X[idx], self.y[idx]"
   ]
  },
  {
   "cell_type": "code",
   "execution_count": 10,
   "metadata": {},
   "outputs": [],
   "source": [
    "batch_size = 32\n",
    "train_dataset = CustomDataset(X_train, y_train)\n",
    "val_dataset = CustomDataset(X_val, y_val)\n",
    "\n",
    "train_loader = DataLoader(train_dataset, batch_size=batch_size, shuffle=True)\n",
    "val_loader = DataLoader(val_dataset, batch_size=batch_size, shuffle=False)"
   ]
  },
  {
   "cell_type": "markdown",
   "metadata": {},
   "source": [
    "**Xây dựng mạng MLP**"
   ]
  },
  {
   "cell_type": "code",
   "execution_count": 11,
   "metadata": {},
   "outputs": [],
   "source": [
    "class MLP(nn.Module):\n",
    "    def __init__(self, input_dims, hidden_dims, output_dims):\n",
    "        super(MLP, self).__init__()\n",
    "        self.linear1 = nn.Linear(input_dims, hidden_dims)\n",
    "        self.linear2 = nn.Linear(hidden_dims, hidden_dims)\n",
    "        self.output = nn.Linear(hidden_dims, output_dims)\n",
    "\n",
    "    def forward(self, x):\n",
    "        x = self.linear1(x)\n",
    "        x = F.relu(x)\n",
    "        x = self.linear2(x)\n",
    "        x = F.relu(x)\n",
    "        out = self.output(x)\n",
    "\n",
    "        return out.squeeze(1)"
   ]
  },
  {
   "cell_type": "code",
   "execution_count": 12,
   "metadata": {},
   "outputs": [],
   "source": [
    "input_dims = X_train.shape[1]\n",
    "hidden_dims = 64\n",
    "output_dims = 1\n",
    "\n",
    "model = MLP(input_dims=input_dims,\n",
    "            hidden_dims=hidden_dims,\n",
    "            output_dims=output_dims).to(device)"
   ]
  },
  {
   "cell_type": "markdown",
   "metadata": {},
   "source": [
    "**Khai báo hàm loss và optimizer**"
   ]
  },
  {
   "cell_type": "code",
   "execution_count": 13,
   "metadata": {},
   "outputs": [],
   "source": [
    "lr = 1e-2\n",
    "criteria = nn.MSELoss()\n",
    "optimizer = torch.optim.SGD(model.parameters(), lr=lr)"
   ]
  },
  {
   "cell_type": "markdown",
   "metadata": {},
   "source": [
    "**Xây dựng hàm tính điểm R2**"
   ]
  },
  {
   "cell_type": "code",
   "execution_count": 14,
   "metadata": {},
   "outputs": [],
   "source": [
    "def r_squared(y_true, y_pred):\n",
    "    y_true = torch.Tensor(y_true).to(device)\n",
    "    y_pred = torch.Tensor(y_pred).to(device)\n",
    "    mean_true = torch.mean(y_true)\n",
    "    ss_res = torch.sum((y_true - y_pred) ** 2)\n",
    "    ss_tot = torch.sum((y_true - mean_true) ** 2)\n",
    "    return 1 - ss_res / ss_tot"
   ]
  },
  {
   "cell_type": "markdown",
   "metadata": {},
   "source": [
    "**Huấn luyện mô hình**"
   ]
  },
  {
   "cell_type": "code",
   "execution_count": 15,
   "metadata": {},
   "outputs": [
    {
     "name": "stdout",
     "output_type": "stream",
     "text": [
      "Epoch 1/100, Train Loss: 282.7695, Val Loss: 88.6705, Train R2: -3.8814, Val R2: -0.5093\n",
      "Epoch 2/100, Train Loss: 137.6403, Val Loss: 72.2927, Train R2: -1.3779, Val R2: -0.3114\n",
      "Epoch 3/100, Train Loss: 71.2069, Val Loss: 19.6682, Train R2: -0.2469, Val R2: 0.6610\n",
      "Epoch 4/100, Train Loss: 24.2861, Val Loss: 166.9051, Train R2: 0.6032, Val R2: -1.6937\n",
      "Epoch 5/100, Train Loss: 89.4771, Val Loss: 19.8156, Train R2: -0.5571, Val R2: 0.6570\n",
      "Epoch 6/100, Train Loss: 17.9819, Val Loss: 17.1159, Train R2: 0.6947, Val R2: 0.7122\n",
      "Epoch 7/100, Train Loss: 20.6666, Val Loss: 8.6691, Train R2: 0.6392, Val R2: 0.8616\n",
      "Epoch 8/100, Train Loss: 38.5446, Val Loss: 36.0796, Train R2: 0.3287, Val R2: 0.4290\n",
      "Epoch 9/100, Train Loss: 20.4251, Val Loss: 30.1564, Train R2: 0.7005, Val R2: 0.5250\n",
      "Epoch 10/100, Train Loss: 20.3079, Val Loss: 49.4825, Train R2: 0.6606, Val R2: 0.2226\n",
      "Epoch 11/100, Train Loss: 33.8492, Val Loss: 21.4786, Train R2: 0.4122, Val R2: 0.6376\n",
      "Epoch 12/100, Train Loss: 10.1364, Val Loss: 5.7388, Train R2: 0.8276, Val R2: 0.8998\n",
      "Epoch 13/100, Train Loss: 15.3193, Val Loss: 15.4216, Train R2: 0.7391, Val R2: 0.7417\n",
      "Epoch 14/100, Train Loss: 12.3384, Val Loss: 13.1563, Train R2: 0.7890, Val R2: 0.7826\n",
      "Epoch 15/100, Train Loss: 14.8164, Val Loss: 8.5199, Train R2: 0.7466, Val R2: 0.8688\n",
      "Epoch 16/100, Train Loss: 11.1111, Val Loss: 20.0129, Train R2: 0.8252, Val R2: 0.6723\n",
      "Epoch 17/100, Train Loss: 12.7075, Val Loss: 14.4875, Train R2: 0.7844, Val R2: 0.7759\n",
      "Epoch 18/100, Train Loss: 15.6314, Val Loss: 13.1291, Train R2: 0.7320, Val R2: 0.7943\n",
      "Epoch 19/100, Train Loss: 15.9323, Val Loss: 5.3659, Train R2: 0.7269, Val R2: 0.9070\n",
      "Epoch 20/100, Train Loss: 7.3110, Val Loss: 5.0661, Train R2: 0.8787, Val R2: 0.9103\n",
      "Epoch 21/100, Train Loss: 8.6461, Val Loss: 4.6054, Train R2: 0.8491, Val R2: 0.9200\n",
      "Epoch 22/100, Train Loss: 6.1757, Val Loss: 5.4466, Train R2: 0.8949, Val R2: 0.9048\n",
      "Epoch 23/100, Train Loss: 10.2845, Val Loss: 51.1020, Train R2: 0.8414, Val R2: 0.2359\n",
      "Epoch 24/100, Train Loss: 11.0505, Val Loss: 14.5802, Train R2: 0.8151, Val R2: 0.7730\n",
      "Epoch 25/100, Train Loss: 9.0046, Val Loss: 8.6001, Train R2: 0.8466, Val R2: 0.8541\n",
      "Epoch 26/100, Train Loss: 10.4259, Val Loss: 6.2087, Train R2: 0.8176, Val R2: 0.8937\n",
      "Epoch 27/100, Train Loss: 6.2492, Val Loss: 7.0604, Train R2: 0.8936, Val R2: 0.8801\n",
      "Epoch 28/100, Train Loss: 10.7008, Val Loss: 4.8637, Train R2: 0.8138, Val R2: 0.9162\n",
      "Epoch 29/100, Train Loss: 6.5256, Val Loss: 11.7456, Train R2: 0.8896, Val R2: 0.8190\n",
      "Epoch 30/100, Train Loss: 18.2468, Val Loss: 4.6918, Train R2: 0.6839, Val R2: 0.9215\n",
      "Epoch 31/100, Train Loss: 8.1161, Val Loss: 6.2274, Train R2: 0.8604, Val R2: 0.8996\n",
      "Epoch 32/100, Train Loss: 7.0063, Val Loss: 6.2565, Train R2: 0.8816, Val R2: 0.8923\n",
      "Epoch 33/100, Train Loss: 7.2993, Val Loss: 4.5951, Train R2: 0.8774, Val R2: 0.9218\n",
      "Epoch 34/100, Train Loss: 6.8064, Val Loss: 6.2351, Train R2: 0.8850, Val R2: 0.8909\n",
      "Epoch 35/100, Train Loss: 7.7027, Val Loss: 6.4275, Train R2: 0.8675, Val R2: 0.8912\n",
      "Epoch 36/100, Train Loss: 6.0190, Val Loss: 6.1330, Train R2: 0.8982, Val R2: 0.8977\n",
      "Epoch 37/100, Train Loss: 6.2325, Val Loss: 6.1151, Train R2: 0.8940, Val R2: 0.8956\n",
      "Epoch 38/100, Train Loss: 7.4225, Val Loss: 10.2639, Train R2: 0.8756, Val R2: 0.8260\n",
      "Epoch 39/100, Train Loss: 7.6435, Val Loss: 13.8704, Train R2: 0.8699, Val R2: 0.7718\n",
      "Epoch 40/100, Train Loss: 7.5288, Val Loss: 5.4525, Train R2: 0.8701, Val R2: 0.9031\n",
      "Epoch 41/100, Train Loss: 5.9489, Val Loss: 22.1996, Train R2: 0.9078, Val R2: 0.6492\n",
      "Epoch 42/100, Train Loss: 8.3696, Val Loss: 5.6860, Train R2: 0.8559, Val R2: 0.9029\n",
      "Epoch 43/100, Train Loss: 7.3314, Val Loss: 28.4007, Train R2: 0.8831, Val R2: 0.5129\n",
      "Epoch 44/100, Train Loss: 9.8718, Val Loss: 11.7397, Train R2: 0.8293, Val R2: 0.7956\n",
      "Epoch 45/100, Train Loss: 6.7338, Val Loss: 4.8428, Train R2: 0.8827, Val R2: 0.9159\n",
      "Epoch 46/100, Train Loss: 8.4510, Val Loss: 7.2713, Train R2: 0.8573, Val R2: 0.8731\n",
      "Epoch 47/100, Train Loss: 6.4685, Val Loss: 6.0369, Train R2: 0.9003, Val R2: 0.9020\n",
      "Epoch 48/100, Train Loss: 5.3974, Val Loss: 6.2776, Train R2: 0.9086, Val R2: 0.8947\n",
      "Epoch 49/100, Train Loss: 6.6831, Val Loss: 10.0915, Train R2: 0.8877, Val R2: 0.8387\n",
      "Epoch 50/100, Train Loss: 6.8243, Val Loss: 11.9237, Train R2: 0.8878, Val R2: 0.7959\n",
      "Epoch 51/100, Train Loss: 8.2200, Val Loss: 8.3779, Train R2: 0.8604, Val R2: 0.8542\n",
      "Epoch 52/100, Train Loss: 11.0574, Val Loss: 5.2052, Train R2: 0.8077, Val R2: 0.9101\n",
      "Epoch 53/100, Train Loss: 7.3743, Val Loss: 4.8917, Train R2: 0.8766, Val R2: 0.9138\n",
      "Epoch 54/100, Train Loss: 6.5808, Val Loss: 5.5733, Train R2: 0.8875, Val R2: 0.9074\n",
      "Epoch 55/100, Train Loss: 5.6110, Val Loss: 5.0228, Train R2: 0.9027, Val R2: 0.9103\n",
      "Epoch 56/100, Train Loss: 5.6058, Val Loss: 6.3124, Train R2: 0.9113, Val R2: 0.8943\n",
      "Epoch 57/100, Train Loss: 7.7887, Val Loss: 7.2801, Train R2: 0.8713, Val R2: 0.8834\n",
      "Epoch 58/100, Train Loss: 6.8927, Val Loss: 18.1494, Train R2: 0.8865, Val R2: 0.6983\n",
      "Epoch 59/100, Train Loss: 7.4197, Val Loss: 8.0149, Train R2: 0.8729, Val R2: 0.8607\n",
      "Epoch 60/100, Train Loss: 5.8035, Val Loss: 4.8811, Train R2: 0.9010, Val R2: 0.9119\n",
      "Epoch 61/100, Train Loss: 5.7044, Val Loss: 8.0837, Train R2: 0.9014, Val R2: 0.8567\n",
      "Epoch 62/100, Train Loss: 9.9901, Val Loss: 4.5569, Train R2: 0.8253, Val R2: 0.9206\n",
      "Epoch 63/100, Train Loss: 6.5819, Val Loss: 13.2056, Train R2: 0.8927, Val R2: 0.7888\n",
      "Epoch 64/100, Train Loss: 6.3122, Val Loss: 6.3508, Train R2: 0.8909, Val R2: 0.8877\n",
      "Epoch 65/100, Train Loss: 7.9863, Val Loss: 5.4060, Train R2: 0.8669, Val R2: 0.9035\n",
      "Epoch 66/100, Train Loss: 5.3919, Val Loss: 5.1222, Train R2: 0.9062, Val R2: 0.9091\n",
      "Epoch 67/100, Train Loss: 5.9626, Val Loss: 6.0233, Train R2: 0.8972, Val R2: 0.8932\n",
      "Epoch 68/100, Train Loss: 10.4332, Val Loss: 7.0812, Train R2: 0.8193, Val R2: 0.8757\n",
      "Epoch 69/100, Train Loss: 7.1420, Val Loss: 8.9146, Train R2: 0.8814, Val R2: 0.8480\n",
      "Epoch 70/100, Train Loss: 6.2702, Val Loss: 5.2745, Train R2: 0.8929, Val R2: 0.9033\n",
      "Epoch 71/100, Train Loss: 5.2205, Val Loss: 4.7368, Train R2: 0.9107, Val R2: 0.9165\n",
      "Epoch 72/100, Train Loss: 5.9752, Val Loss: 9.2861, Train R2: 0.9010, Val R2: 0.8562\n",
      "Epoch 73/100, Train Loss: 6.7817, Val Loss: 10.7087, Train R2: 0.8868, Val R2: 0.8132\n",
      "Epoch 74/100, Train Loss: 6.5079, Val Loss: 5.2199, Train R2: 0.8873, Val R2: 0.9063\n",
      "Epoch 75/100, Train Loss: 5.5329, Val Loss: 17.2255, Train R2: 0.9102, Val R2: 0.7270\n",
      "Epoch 76/100, Train Loss: 7.6139, Val Loss: 19.8137, Train R2: 0.8742, Val R2: 0.6562\n",
      "Epoch 77/100, Train Loss: 11.2010, Val Loss: 7.1633, Train R2: 0.8101, Val R2: 0.8723\n",
      "Epoch 78/100, Train Loss: 6.8119, Val Loss: 5.3356, Train R2: 0.8852, Val R2: 0.9042\n",
      "Epoch 79/100, Train Loss: 6.0540, Val Loss: 10.9230, Train R2: 0.9008, Val R2: 0.8087\n",
      "Epoch 80/100, Train Loss: 8.1101, Val Loss: 5.5539, Train R2: 0.8593, Val R2: 0.9027\n",
      "Epoch 81/100, Train Loss: 10.6697, Val Loss: 6.3651, Train R2: 0.8280, Val R2: 0.8874\n",
      "Epoch 82/100, Train Loss: 5.6498, Val Loss: 5.4214, Train R2: 0.9029, Val R2: 0.9052\n",
      "Epoch 83/100, Train Loss: 5.6684, Val Loss: 8.1346, Train R2: 0.9038, Val R2: 0.8539\n",
      "Epoch 84/100, Train Loss: 5.3452, Val Loss: 5.0820, Train R2: 0.9083, Val R2: 0.9111\n",
      "Epoch 85/100, Train Loss: 5.0646, Val Loss: 6.8330, Train R2: 0.9155, Val R2: 0.8769\n",
      "Epoch 86/100, Train Loss: 4.8913, Val Loss: 6.2193, Train R2: 0.9182, Val R2: 0.8955\n",
      "Epoch 87/100, Train Loss: 5.2489, Val Loss: 7.4305, Train R2: 0.9144, Val R2: 0.8750\n",
      "Epoch 88/100, Train Loss: 5.2471, Val Loss: 5.1437, Train R2: 0.9090, Val R2: 0.9118\n",
      "Epoch 89/100, Train Loss: 4.8605, Val Loss: 5.5884, Train R2: 0.9155, Val R2: 0.8997\n",
      "Epoch 90/100, Train Loss: 6.9190, Val Loss: 6.4817, Train R2: 0.8827, Val R2: 0.8887\n",
      "Epoch 91/100, Train Loss: 5.5410, Val Loss: 7.9625, Train R2: 0.9110, Val R2: 0.8616\n",
      "Epoch 92/100, Train Loss: 6.9628, Val Loss: 5.5344, Train R2: 0.8778, Val R2: 0.9020\n",
      "Epoch 93/100, Train Loss: 6.3163, Val Loss: 5.0473, Train R2: 0.8912, Val R2: 0.9102\n",
      "Epoch 94/100, Train Loss: 9.2850, Val Loss: 7.3548, Train R2: 0.8412, Val R2: 0.8743\n",
      "Epoch 95/100, Train Loss: 6.4740, Val Loss: 6.1461, Train R2: 0.8895, Val R2: 0.8949\n",
      "Epoch 96/100, Train Loss: 8.3508, Val Loss: 19.2581, Train R2: 0.8712, Val R2: 0.6665\n",
      "Epoch 97/100, Train Loss: 7.0468, Val Loss: 10.0220, Train R2: 0.8822, Val R2: 0.8436\n",
      "Epoch 98/100, Train Loss: 7.0111, Val Loss: 7.5189, Train R2: 0.8802, Val R2: 0.8673\n",
      "Epoch 99/100, Train Loss: 6.1759, Val Loss: 5.1040, Train R2: 0.8939, Val R2: 0.9122\n",
      "Epoch 100/100, Train Loss: 6.0289, Val Loss: 4.8688, Train R2: 0.8967, Val R2: 0.9151\n"
     ]
    }
   ],
   "source": [
    "epochs = 100\n",
    "train_losses = []\n",
    "val_losses = []\n",
    "train_r2 = []\n",
    "val_r2 = []\n",
    "\n",
    "for epoch in range(epochs):\n",
    "    train_loss = 0.0\n",
    "    train_target = []\n",
    "    val_target = []\n",
    "    train_prediction = []\n",
    "    val_prediction = []\n",
    "    model.train()\n",
    "\n",
    "    for X_samples, y_samples in train_loader:\n",
    "        X_samples, y_samples = X_samples.to(device), y_samples.to(device)\n",
    "        optimizer.zero_grad()\n",
    "        y_pred = model(X_samples)\n",
    "        loss = criteria(y_pred, y_samples)\n",
    "        loss.backward()\n",
    "        optimizer.step()\n",
    "        train_loss += loss.item()\n",
    "        train_target.extend(y_samples.tolist())\n",
    "        train_prediction.extend(y_pred.tolist())\n",
    "\n",
    "    train_loss /= len(train_loader)\n",
    "    train_losses.append(train_loss)\n",
    "    train_r2.append(r_squared(train_target, train_prediction))\n",
    "\n",
    "    model.eval()\n",
    "    val_loss = 0.0\n",
    "    with torch.no_grad():\n",
    "        for X_samples, y_samples in val_loader:\n",
    "            X_samples, y_samples = X_samples.to(device), y_samples.to(device)\n",
    "            y_pred = model(X_samples)\n",
    "            loss = criteria(y_pred, y_samples)\n",
    "            val_loss += loss.item()\n",
    "            val_target.extend(y_samples.tolist())\n",
    "            val_prediction.extend(y_pred.tolist())\n",
    "\n",
    "    val_loss /= len(val_loader)\n",
    "    val_losses.append(val_loss)\n",
    "    val_r2.append(r_squared(val_target, val_prediction))\n",
    "    print(f'Epoch {epoch+1}/{epochs}, Train Loss: {train_loss:.4f}, Val Loss: {val_loss:.4f}, Train R2: {train_r2[-1]:.4f}, Val R2: {val_r2[-1]:.4f}')\n"
   ]
  },
  {
   "cell_type": "markdown",
   "metadata": {},
   "source": [
    "**Đánh giá mô hình**"
   ]
  },
  {
   "cell_type": "code",
   "execution_count": 16,
   "metadata": {},
   "outputs": [
    {
     "name": "stdout",
     "output_type": "stream",
     "text": [
      "Test R2: 0.8792\n"
     ]
    }
   ],
   "source": [
    "model.eval()\n",
    "with torch.no_grad():\n",
    "    y_hat = model(X_test.to(device)).cpu().numpy()\n",
    "    test_r2 = r_squared(y_test, y_hat)\n",
    "    print(f'Test R2: {test_r2:.4f}')"
   ]
  }
 ],
 "metadata": {
  "kernelspec": {
   "display_name": "base",
   "language": "python",
   "name": "python3"
  },
  "language_info": {
   "codemirror_mode": {
    "name": "ipython",
    "version": 3
   },
   "file_extension": ".py",
   "mimetype": "text/x-python",
   "name": "python",
   "nbconvert_exporter": "python",
   "pygments_lexer": "ipython3",
   "version": "3.12.3"
  }
 },
 "nbformat": 4,
 "nbformat_minor": 2
}
