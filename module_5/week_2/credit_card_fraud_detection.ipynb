{
 "cells": [
  {
   "cell_type": "markdown",
   "metadata": {},
   "source": [
    "**Import libraries**"
   ]
  },
  {
   "cell_type": "code",
   "execution_count": 1,
   "metadata": {},
   "outputs": [],
   "source": [
    "import numpy as np\n",
    "import pandas as pd\n",
    "import matplotlib.pyplot as plt\n",
    "\n",
    "from sklearn.model_selection import train_test_split\n",
    "from sklearn.preprocessing import StandardScaler"
   ]
  },
  {
   "cell_type": "markdown",
   "metadata": {},
   "source": [
    "**Đọc dữ liệu**"
   ]
  },
  {
   "cell_type": "code",
   "execution_count": null,
   "metadata": {},
   "outputs": [
    {
     "data": {
      "text/html": [
       "<div>\n",
       "<style scoped>\n",
       "    .dataframe tbody tr th:only-of-type {\n",
       "        vertical-align: middle;\n",
       "    }\n",
       "\n",
       "    .dataframe tbody tr th {\n",
       "        vertical-align: top;\n",
       "    }\n",
       "\n",
       "    .dataframe thead th {\n",
       "        text-align: right;\n",
       "    }\n",
       "</style>\n",
       "<table border=\"1\" class=\"dataframe\">\n",
       "  <thead>\n",
       "    <tr style=\"text-align: right;\">\n",
       "      <th></th>\n",
       "      <th>Time</th>\n",
       "      <th>V1</th>\n",
       "      <th>V2</th>\n",
       "      <th>V3</th>\n",
       "      <th>V4</th>\n",
       "      <th>V5</th>\n",
       "      <th>V6</th>\n",
       "      <th>V7</th>\n",
       "      <th>V8</th>\n",
       "      <th>V9</th>\n",
       "      <th>...</th>\n",
       "      <th>V21</th>\n",
       "      <th>V22</th>\n",
       "      <th>V23</th>\n",
       "      <th>V24</th>\n",
       "      <th>V25</th>\n",
       "      <th>V26</th>\n",
       "      <th>V27</th>\n",
       "      <th>V28</th>\n",
       "      <th>Amount</th>\n",
       "      <th>Class</th>\n",
       "    </tr>\n",
       "  </thead>\n",
       "  <tbody>\n",
       "    <tr>\n",
       "      <th>0</th>\n",
       "      <td>0.0</td>\n",
       "      <td>-1.359807</td>\n",
       "      <td>-0.072781</td>\n",
       "      <td>2.536347</td>\n",
       "      <td>1.378155</td>\n",
       "      <td>-0.338321</td>\n",
       "      <td>0.462388</td>\n",
       "      <td>0.239599</td>\n",
       "      <td>0.098698</td>\n",
       "      <td>0.363787</td>\n",
       "      <td>...</td>\n",
       "      <td>-0.018307</td>\n",
       "      <td>0.277838</td>\n",
       "      <td>-0.110474</td>\n",
       "      <td>0.066928</td>\n",
       "      <td>0.128539</td>\n",
       "      <td>-0.189115</td>\n",
       "      <td>0.133558</td>\n",
       "      <td>-0.021053</td>\n",
       "      <td>149.62</td>\n",
       "      <td>0</td>\n",
       "    </tr>\n",
       "    <tr>\n",
       "      <th>1</th>\n",
       "      <td>0.0</td>\n",
       "      <td>1.191857</td>\n",
       "      <td>0.266151</td>\n",
       "      <td>0.166480</td>\n",
       "      <td>0.448154</td>\n",
       "      <td>0.060018</td>\n",
       "      <td>-0.082361</td>\n",
       "      <td>-0.078803</td>\n",
       "      <td>0.085102</td>\n",
       "      <td>-0.255425</td>\n",
       "      <td>...</td>\n",
       "      <td>-0.225775</td>\n",
       "      <td>-0.638672</td>\n",
       "      <td>0.101288</td>\n",
       "      <td>-0.339846</td>\n",
       "      <td>0.167170</td>\n",
       "      <td>0.125895</td>\n",
       "      <td>-0.008983</td>\n",
       "      <td>0.014724</td>\n",
       "      <td>2.69</td>\n",
       "      <td>0</td>\n",
       "    </tr>\n",
       "    <tr>\n",
       "      <th>2</th>\n",
       "      <td>1.0</td>\n",
       "      <td>-1.358354</td>\n",
       "      <td>-1.340163</td>\n",
       "      <td>1.773209</td>\n",
       "      <td>0.379780</td>\n",
       "      <td>-0.503198</td>\n",
       "      <td>1.800499</td>\n",
       "      <td>0.791461</td>\n",
       "      <td>0.247676</td>\n",
       "      <td>-1.514654</td>\n",
       "      <td>...</td>\n",
       "      <td>0.247998</td>\n",
       "      <td>0.771679</td>\n",
       "      <td>0.909412</td>\n",
       "      <td>-0.689281</td>\n",
       "      <td>-0.327642</td>\n",
       "      <td>-0.139097</td>\n",
       "      <td>-0.055353</td>\n",
       "      <td>-0.059752</td>\n",
       "      <td>378.66</td>\n",
       "      <td>0</td>\n",
       "    </tr>\n",
       "    <tr>\n",
       "      <th>3</th>\n",
       "      <td>1.0</td>\n",
       "      <td>-0.966272</td>\n",
       "      <td>-0.185226</td>\n",
       "      <td>1.792993</td>\n",
       "      <td>-0.863291</td>\n",
       "      <td>-0.010309</td>\n",
       "      <td>1.247203</td>\n",
       "      <td>0.237609</td>\n",
       "      <td>0.377436</td>\n",
       "      <td>-1.387024</td>\n",
       "      <td>...</td>\n",
       "      <td>-0.108300</td>\n",
       "      <td>0.005274</td>\n",
       "      <td>-0.190321</td>\n",
       "      <td>-1.175575</td>\n",
       "      <td>0.647376</td>\n",
       "      <td>-0.221929</td>\n",
       "      <td>0.062723</td>\n",
       "      <td>0.061458</td>\n",
       "      <td>123.50</td>\n",
       "      <td>0</td>\n",
       "    </tr>\n",
       "    <tr>\n",
       "      <th>4</th>\n",
       "      <td>2.0</td>\n",
       "      <td>-1.158233</td>\n",
       "      <td>0.877737</td>\n",
       "      <td>1.548718</td>\n",
       "      <td>0.403034</td>\n",
       "      <td>-0.407193</td>\n",
       "      <td>0.095921</td>\n",
       "      <td>0.592941</td>\n",
       "      <td>-0.270533</td>\n",
       "      <td>0.817739</td>\n",
       "      <td>...</td>\n",
       "      <td>-0.009431</td>\n",
       "      <td>0.798278</td>\n",
       "      <td>-0.137458</td>\n",
       "      <td>0.141267</td>\n",
       "      <td>-0.206010</td>\n",
       "      <td>0.502292</td>\n",
       "      <td>0.219422</td>\n",
       "      <td>0.215153</td>\n",
       "      <td>69.99</td>\n",
       "      <td>0</td>\n",
       "    </tr>\n",
       "  </tbody>\n",
       "</table>\n",
       "<p>5 rows × 31 columns</p>\n",
       "</div>"
      ],
      "text/plain": [
       "   Time        V1        V2        V3        V4        V5        V6        V7  \\\n",
       "0   0.0 -1.359807 -0.072781  2.536347  1.378155 -0.338321  0.462388  0.239599   \n",
       "1   0.0  1.191857  0.266151  0.166480  0.448154  0.060018 -0.082361 -0.078803   \n",
       "2   1.0 -1.358354 -1.340163  1.773209  0.379780 -0.503198  1.800499  0.791461   \n",
       "3   1.0 -0.966272 -0.185226  1.792993 -0.863291 -0.010309  1.247203  0.237609   \n",
       "4   2.0 -1.158233  0.877737  1.548718  0.403034 -0.407193  0.095921  0.592941   \n",
       "\n",
       "         V8        V9  ...       V21       V22       V23       V24       V25  \\\n",
       "0  0.098698  0.363787  ... -0.018307  0.277838 -0.110474  0.066928  0.128539   \n",
       "1  0.085102 -0.255425  ... -0.225775 -0.638672  0.101288 -0.339846  0.167170   \n",
       "2  0.247676 -1.514654  ...  0.247998  0.771679  0.909412 -0.689281 -0.327642   \n",
       "3  0.377436 -1.387024  ... -0.108300  0.005274 -0.190321 -1.175575  0.647376   \n",
       "4 -0.270533  0.817739  ... -0.009431  0.798278 -0.137458  0.141267 -0.206010   \n",
       "\n",
       "        V26       V27       V28  Amount  Class  \n",
       "0 -0.189115  0.133558 -0.021053  149.62      0  \n",
       "1  0.125895 -0.008983  0.014724    2.69      0  \n",
       "2 -0.139097 -0.055353 -0.059752  378.66      0  \n",
       "3 -0.221929  0.062723  0.061458  123.50      0  \n",
       "4  0.502292  0.219422  0.215153   69.99      0  \n",
       "\n",
       "[5 rows x 31 columns]"
      ]
     },
     "execution_count": 2,
     "metadata": {},
     "output_type": "execute_result"
    }
   ],
   "source": [
    "dataset_path = './creditcard.csv'\n",
    "df = pd.read_csv(dataset_path)\n",
    "df.head()"
   ]
  },
  {
   "cell_type": "code",
   "execution_count": 3,
   "metadata": {},
   "outputs": [],
   "source": [
    "dataset_arr = df.to_numpy()\n",
    "X = dataset_arr[:, :-1].astype(np.float64)\n",
    "y = dataset_arr[:, -1].astype(np.int64)"
   ]
  },
  {
   "cell_type": "markdown",
   "metadata": {},
   "source": [
    "**Thêm bias vào X**"
   ]
  },
  {
   "cell_type": "code",
   "execution_count": 4,
   "metadata": {},
   "outputs": [],
   "source": [
    "intercept = np.ones((X.shape[0], 1))\n",
    "X_b = np.concatenate((intercept, X), axis=1)"
   ]
  },
  {
   "cell_type": "markdown",
   "metadata": {},
   "source": [
    "**One-hot encoding label**"
   ]
  },
  {
   "cell_type": "code",
   "execution_count": 5,
   "metadata": {},
   "outputs": [],
   "source": [
    "n_classes = len(np.unique(y))\n",
    "n_samples = y.shape[0]\n",
    "\n",
    "y_encoded = np.zeros((n_samples, n_classes))\n",
    "y_encoded[np.arange(n_samples), y] = 1"
   ]
  },
  {
   "cell_type": "markdown",
   "metadata": {},
   "source": [
    "**Chia tập train, val, test**"
   ]
  },
  {
   "cell_type": "code",
   "execution_count": 6,
   "metadata": {},
   "outputs": [],
   "source": [
    "val_size = 0.2\n",
    "test_size = 0.125\n",
    "random_state = 2\n",
    "is_shuffle = True\n",
    "\n",
    "X_train, X_val, y_train, y_val = train_test_split(X_b, y_encoded, test_size=val_size, random_state=random_state, shuffle=is_shuffle)\n",
    "X_train, X_test, y_train, y_test = train_test_split(X_train, y_train, test_size=test_size, random_state=random_state, shuffle=is_shuffle)"
   ]
  },
  {
   "cell_type": "markdown",
   "metadata": {},
   "source": [
    "**Chuẩn hóa dữ liệu**"
   ]
  },
  {
   "cell_type": "code",
   "execution_count": 7,
   "metadata": {},
   "outputs": [],
   "source": [
    "normalizer = StandardScaler()\n",
    "X_train[:, 1:] = normalizer.fit_transform(X_train[:, 1:])\n",
    "X_val[:, 1:] = normalizer.transform(X_val[:, 1:])\n",
    "X_test[:, 1:] = normalizer.transform(X_test[:, 1:])"
   ]
  },
  {
   "cell_type": "markdown",
   "metadata": {},
   "source": [
    "**Cài đặt các hàm quan trọng**"
   ]
  },
  {
   "cell_type": "code",
   "execution_count": null,
   "metadata": {},
   "outputs": [],
   "source": [
    "def softmax(z):\n",
    "    exp_z = np.exp(z)/np.sum(np.exp(z), axis=1, keepdims=True)\n",
    "    return exp_z\n",
    "\n",
    "def predict(X, theta):\n",
    "    z = np.dot(X, theta)\n",
    "    y_hat = softmax(z)\n",
    "    return y_hat\n",
    "\n",
    "def cross_entropy_loss(y, y_hat):\n",
    "    loss = -np.sum(y * np.log(y_hat))/y.shape[0]\n",
    "    return loss\n",
    "\n",
    "def compute_gradient(X, y, y_hat):\n",
    "    gradient = np.dot(X.T, (y_hat - y))/X.shape[0]\n",
    "    return gradient\n",
    "\n",
    "def update_theta(theta, gradient, learning_rate):\n",
    "    theta = theta - learning_rate * gradient\n",
    "    return theta\n",
    "\n",
    "def compute_accuracy(X, y, theta):\n",
    "    y_hat = predict(X, theta)\n",
    "    y_pred = np.argmax(y_hat, axis=1)\n",
    "    y_true = np.argmax(y, axis=1)\n",
    "    accuracy = np.mean(y_pred == y_true)\n",
    "    return accuracy"
   ]
  },
  {
   "cell_type": "markdown",
   "metadata": {},
   "source": [
    "**Khai báo các siêu tham số và khởi tạo weights**"
   ]
  },
  {
   "cell_type": "code",
   "execution_count": 9,
   "metadata": {},
   "outputs": [],
   "source": [
    "lr = 0.01\n",
    "epochs = 30\n",
    "batch_size = 32\n",
    "n_features = X_train.shape[1]\n",
    "\n",
    "np.random.seed(random_state)\n",
    "theta = np.random.uniform(size=(n_features, n_classes))"
   ]
  },
  {
   "cell_type": "markdown",
   "metadata": {},
   "source": [
    "**Huấn luyện mô hình**"
   ]
  },
  {
   "cell_type": "code",
   "execution_count": 10,
   "metadata": {},
   "outputs": [
    {
     "name": "stdout",
     "output_type": "stream",
     "text": [
      "Epoch 1/30 - Train Loss: 0.0461 - Train Accuracy: 0.9931 - Val Loss: 0.0448 - Val Accuracy: 0.9933\n",
      "Epoch 2/30 - Train Loss: 0.0090 - Train Accuracy: 0.9991 - Val Loss: 0.0082 - Val Accuracy: 0.9993\n",
      "Epoch 3/30 - Train Loss: 0.0068 - Train Accuracy: 0.9991 - Val Loss: 0.0060 - Val Accuracy: 0.9993\n",
      "Epoch 4/30 - Train Loss: 0.0059 - Train Accuracy: 0.9991 - Val Loss: 0.0052 - Val Accuracy: 0.9993\n",
      "Epoch 5/30 - Train Loss: 0.0055 - Train Accuracy: 0.9991 - Val Loss: 0.0047 - Val Accuracy: 0.9993\n",
      "Epoch 6/30 - Train Loss: 0.0052 - Train Accuracy: 0.9991 - Val Loss: 0.0044 - Val Accuracy: 0.9993\n",
      "Epoch 7/30 - Train Loss: 0.0050 - Train Accuracy: 0.9991 - Val Loss: 0.0042 - Val Accuracy: 0.9993\n",
      "Epoch 8/30 - Train Loss: 0.0048 - Train Accuracy: 0.9991 - Val Loss: 0.0040 - Val Accuracy: 0.9993\n",
      "Epoch 9/30 - Train Loss: 0.0047 - Train Accuracy: 0.9991 - Val Loss: 0.0039 - Val Accuracy: 0.9993\n",
      "Epoch 10/30 - Train Loss: 0.0046 - Train Accuracy: 0.9991 - Val Loss: 0.0039 - Val Accuracy: 0.9993\n",
      "Epoch 11/30 - Train Loss: 0.0046 - Train Accuracy: 0.9991 - Val Loss: 0.0038 - Val Accuracy: 0.9993\n",
      "Epoch 12/30 - Train Loss: 0.0045 - Train Accuracy: 0.9991 - Val Loss: 0.0037 - Val Accuracy: 0.9993\n",
      "Epoch 13/30 - Train Loss: 0.0045 - Train Accuracy: 0.9992 - Val Loss: 0.0037 - Val Accuracy: 0.9993\n",
      "Epoch 14/30 - Train Loss: 0.0044 - Train Accuracy: 0.9992 - Val Loss: 0.0037 - Val Accuracy: 0.9993\n",
      "Epoch 15/30 - Train Loss: 0.0044 - Train Accuracy: 0.9992 - Val Loss: 0.0036 - Val Accuracy: 0.9993\n",
      "Epoch 16/30 - Train Loss: 0.0044 - Train Accuracy: 0.9992 - Val Loss: 0.0036 - Val Accuracy: 0.9993\n",
      "Epoch 17/30 - Train Loss: 0.0044 - Train Accuracy: 0.9992 - Val Loss: 0.0036 - Val Accuracy: 0.9993\n",
      "Epoch 18/30 - Train Loss: 0.0043 - Train Accuracy: 0.9992 - Val Loss: 0.0036 - Val Accuracy: 0.9993\n",
      "Epoch 19/30 - Train Loss: 0.0043 - Train Accuracy: 0.9992 - Val Loss: 0.0035 - Val Accuracy: 0.9993\n",
      "Epoch 20/30 - Train Loss: 0.0043 - Train Accuracy: 0.9992 - Val Loss: 0.0035 - Val Accuracy: 0.9993\n",
      "Epoch 21/30 - Train Loss: 0.0043 - Train Accuracy: 0.9992 - Val Loss: 0.0035 - Val Accuracy: 0.9994\n",
      "Epoch 22/30 - Train Loss: 0.0043 - Train Accuracy: 0.9992 - Val Loss: 0.0035 - Val Accuracy: 0.9994\n",
      "Epoch 23/30 - Train Loss: 0.0043 - Train Accuracy: 0.9992 - Val Loss: 0.0035 - Val Accuracy: 0.9994\n",
      "Epoch 24/30 - Train Loss: 0.0043 - Train Accuracy: 0.9992 - Val Loss: 0.0035 - Val Accuracy: 0.9994\n",
      "Epoch 25/30 - Train Loss: 0.0043 - Train Accuracy: 0.9992 - Val Loss: 0.0035 - Val Accuracy: 0.9994\n",
      "Epoch 26/30 - Train Loss: 0.0042 - Train Accuracy: 0.9992 - Val Loss: 0.0034 - Val Accuracy: 0.9994\n",
      "Epoch 27/30 - Train Loss: 0.0043 - Train Accuracy: 0.9992 - Val Loss: 0.0034 - Val Accuracy: 0.9994\n",
      "Epoch 28/30 - Train Loss: 0.0042 - Train Accuracy: 0.9992 - Val Loss: 0.0034 - Val Accuracy: 0.9994\n",
      "Epoch 29/30 - Train Loss: 0.0042 - Train Accuracy: 0.9992 - Val Loss: 0.0034 - Val Accuracy: 0.9994\n",
      "Epoch 30/30 - Train Loss: 0.0042 - Train Accuracy: 0.9992 - Val Loss: 0.0034 - Val Accuracy: 0.9994\n"
     ]
    }
   ],
   "source": [
    "train_losses = []\n",
    "val_losses = []\n",
    "train_accuracies = []\n",
    "val_accuracies = []\n",
    "\n",
    "for epoch in range(epochs):\n",
    "    train_batch_losses = []\n",
    "    val_batch_losses = []\n",
    "    train_batch_accuracies = []\n",
    "    val_batch_accuracies = []\n",
    "\n",
    "    for i in range(0, X_train.shape[0], batch_size):\n",
    "        X_batch = X_train[i:i+batch_size]\n",
    "        y_batch = y_train[i:i+batch_size]\n",
    "\n",
    "        y_hat = predict(X_batch, theta)\n",
    "        train_loss = cross_entropy_loss(y_batch, y_hat)\n",
    "        gradient = compute_gradient(X_batch, y_batch, y_hat)\n",
    "        theta = update_theta(theta, gradient, lr)\n",
    "\n",
    "        train_batch_losses.append(train_loss)\n",
    "\n",
    "        train_accuracy = compute_accuracy(X_batch, y_batch, theta)\n",
    "        train_batch_accuracies.append(train_accuracy)\n",
    "\n",
    "        y_hat_val = predict(X_val, theta)\n",
    "        val_loss = cross_entropy_loss(y_val, y_hat_val)\n",
    "        val_batch_losses.append(val_loss)\n",
    "\n",
    "        val_accuracy = compute_accuracy(X_val, y_val, theta)\n",
    "        val_batch_accuracies.append(val_accuracy)\n",
    "\n",
    "    train_losses.append(np.mean(train_batch_losses))\n",
    "    val_losses.append(np.mean(val_batch_losses))\n",
    "    train_accuracies.append(np.mean(train_batch_accuracies))\n",
    "    val_accuracies.append(np.mean(val_batch_accuracies))\n",
    "\n",
    "    print(f'Epoch {epoch+1}/{epochs} - Train Loss: {train_losses[-1]:.4f} - Train Accuracy: {train_accuracies[-1]:.4f} - Val Loss: {val_losses[-1]:.4f} - Val Accuracy: {val_accuracies[-1]:.4f}')\n"
   ]
  },
  {
   "cell_type": "code",
   "execution_count": 11,
   "metadata": {},
   "outputs": [
    {
     "data": {
      "image/png": "[encoded data removed]",
      "text/plain": [
       "<Figure size 1200x1000 with 4 Axes>"
      ]
     },
     "metadata": {},
     "output_type": "display_data"
    }
   ],
   "source": [
    "fig, ax = plt.subplots(2, 2, figsize=(12, 10))\n",
    "ax[0, 0].plot(train_losses)\n",
    "ax[0, 0].set(xlabel='Epochs', ylabel='Loss')\n",
    "ax[0, 0].set_title('Training Loss')\n",
    "\n",
    "ax[0, 1].plot(val_losses, color='red')\n",
    "ax[0, 1].set(xlabel='Epochs', ylabel='Loss')\n",
    "ax[0, 1].set_title('Validation Loss')\n",
    "\n",
    "ax[1, 0].plot(train_accuracies)\n",
    "ax[1, 0].set(xlabel='Epochs', ylabel='Accuracy')\n",
    "ax[1, 0].set_title('Training Accuracy')\n",
    "\n",
    "ax[1, 1].plot(val_accuracies, color='red')\n",
    "ax[1, 1].set(xlabel='Epochs', ylabel='Accuracy')\n",
    "ax[1, 1].set_title('Validation Accuracy')\n",
    "\n",
    "plt.tight_layout()\n",
    "plt.show()"
   ]
  },
  {
   "cell_type": "markdown",
   "metadata": {},
   "source": [
    "**Đánh giá mô hình**"
   ]
  },
  {
   "cell_type": "code",
   "execution_count": 12,
   "metadata": {},
   "outputs": [
    {
     "name": "stdout",
     "output_type": "stream",
     "text": [
      "Validation Set Accuracy: 1.00\n",
      "Test Set Accuracy: 1.00\n"
     ]
    }
   ],
   "source": [
    "val_set_acc = compute_accuracy(X_val, y_val, theta)\n",
    "test_set_acc = compute_accuracy(X_test, y_test, theta)\n",
    "print(f'Validation Set Accuracy: {val_set_acc:.2f}')\n",
    "print(f'Test Set Accuracy: {test_set_acc:.2f}')"
   ]
  }
 ],
 "metadata": {
  "kernelspec": {
   "display_name": "base",
   "language": "python",
   "name": "python3"
  },
  "language_info": {
   "codemirror_mode": {
    "name": "ipython",
    "version": 3
   },
   "file_extension": ".py",
   "mimetype": "text/x-python",
   "name": "python",
   "nbconvert_exporter": "python",
   "pygments_lexer": "ipython3",
   "version": "3.12.3"
  }
 },
 "nbformat": 4,
 "nbformat_minor": 2
}
