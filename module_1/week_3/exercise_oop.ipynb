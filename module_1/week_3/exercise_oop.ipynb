{
 "cells": [
  {
   "cell_type": "markdown",
   "metadata": {},
   "source": [
    "**1. Viết class và cài phương thức softmax.**"
   ]
  },
  {
   "cell_type": "code",
   "execution_count": 1,
   "metadata": {},
   "outputs": [
    {
     "data": {
      "text/plain": [
       "tensor([0.0900, 0.2447, 0.6652])"
      ]
     },
     "execution_count": 1,
     "metadata": {},
     "output_type": "execute_result"
    }
   ],
   "source": [
    "import torch\n",
    "import torch.nn as nn\n",
    "\n",
    "class Softmax(nn.Module):\n",
    "    def __init__(self):\n",
    "        super().__init__()\n",
    "\n",
    "    def forward(self, x):\n",
    "        x_exp = torch.exp(x)\n",
    "        partition = x_exp.sum(0, keepdim=True)\n",
    "        return x_exp / partition\n",
    "\n",
    "data = torch.Tensor([1, 2, 3])\n",
    "softmax = Softmax()\n",
    "output = softmax(data)\n",
    "output\n"
   ]
  },
  {
   "cell_type": "code",
   "execution_count": 2,
   "metadata": {},
   "outputs": [
    {
     "data": {
      "text/plain": [
       "tensor([0.0900, 0.2447, 0.6652])"
      ]
     },
     "execution_count": 2,
     "metadata": {},
     "output_type": "execute_result"
    }
   ],
   "source": [
    "import torch\n",
    "import torch.nn as nn\n",
    "\n",
    "class SoftmaxStable(nn.Module):\n",
    "    def __init__(self):\n",
    "        super().__init__()\n",
    "\n",
    "    def forward(self, x):\n",
    "        x_max = torch.max(x, dim=0, keepdim=True)\n",
    "        x_exp = torch.exp(x - x_max.values)\n",
    "        partition = x_exp.sum(0, keepdim=True)\n",
    "        return x_exp / partition\n",
    "\n",
    "data = torch.Tensor([1, 2, 3])\n",
    "softmax_stable = SoftmaxStable()\n",
    "outpur = softmax_stable(data)\n",
    "output"
   ]
  },
  {
   "cell_type": "markdown",
   "metadata": {},
   "source": [
    "**2. Xây dựng class và object đơn giản**"
   ]
  },
  {
   "cell_type": "code",
   "execution_count": 3,
   "metadata": {},
   "outputs": [
    {
     "name": "stdout",
     "output_type": "stream",
     "text": [
      "Ward Name: Tamky\n",
      "List of people:\n",
      "Student - Name: John, Yob: 2000, Grade: 7\n",
      "Teachet - Name: Alice, Yob: 1980, Subject: Math\n",
      "Teachet - Name: Bob, Yob: 1970, Subject: Physics\n",
      "Doctor - Name: Switch, Yob: 1970, Specialist: Heart\n",
      "Doctor - Name: Manbo, Yob: 1980, Specialist: Brain\n",
      "---------------------------------\n",
      "Number of doctor: 2\n",
      "---------------------------------\n",
      "Ward Name: Tamky\n",
      "List of people:\n",
      "Student - Name: John, Yob: 2000, Grade: 7\n",
      "Teachet - Name: Alice, Yob: 1980, Subject: Math\n",
      "Doctor - Name: Manbo, Yob: 1980, Specialist: Brain\n",
      "Teachet - Name: Bob, Yob: 1970, Subject: Physics\n",
      "Doctor - Name: Switch, Yob: 1970, Specialist: Heart\n",
      "---------------------------------\n",
      "Average Teacher Yob: 1975.0\n"
     ]
    }
   ],
   "source": [
    "from abc import ABC, abstractmethod\n",
    "\n",
    "class Person(ABC):\n",
    "    def __init__(self, name:str, yob:int):\n",
    "        self._name = name\n",
    "        self._yob = yob\n",
    "\n",
    "    def getYob(self):\n",
    "        return self._yob\n",
    "\n",
    "    @abstractmethod\n",
    "    def describe(self):\n",
    "        pass\n",
    "\n",
    "class Student(Person):\n",
    "    def __init__(self, name:str, yob:int, grade:str):\n",
    "        super().__init__(name, yob)\n",
    "        self.__grade = grade\n",
    "\n",
    "    def describe(self):\n",
    "        print(f'Student - Name: {self._name}, Yob: {self._yob}, Grade: {self.__grade}')\n",
    "\n",
    "class Teacher(Person):\n",
    "    def __init__(self, name:str, yob:int, subject:str):\n",
    "        super().__init__(name, yob)\n",
    "        self.__subject = subject\n",
    "\n",
    "    def describe(self):\n",
    "        print(f'Teachet - Name: {self._name}, Yob: {self._yob}, Subject: {self.__subject}')\n",
    "\n",
    "class Doctor(Person):\n",
    "    def __init__(self, name:str, yob:int, specialist:str):\n",
    "        super().__init__(name, yob)\n",
    "        self.specialist = specialist\n",
    "\n",
    "    def describe(self):\n",
    "        print(f'Doctor - Name: {self._name}, Yob: {self._yob}, Specialist: {self.specialist}')\n",
    "\n",
    "class Ward():\n",
    "    def __init__(self, name:str):\n",
    "        self.name = name\n",
    "        self.__list_people = list()\n",
    "\n",
    "    def getListPeople(self):\n",
    "        return self.__list_people\n",
    "\n",
    "    def addPerson(self, person:Person):\n",
    "        self.__list_people.append(person)\n",
    "\n",
    "\n",
    "    def describe(self):\n",
    "        print(f'Ward Name: {self.name}')\n",
    "        print('List of people:')\n",
    "        for person in self.__list_people:\n",
    "            person.describe()\n",
    "\n",
    "    def countDoctor(self):\n",
    "        count = 0\n",
    "        for person in self.__list_people:\n",
    "            if isinstance(person, Doctor):\n",
    "                count += 1\n",
    "        return count\n",
    "\n",
    "    def sortAge(self):\n",
    "        self.__list_people.sort(key=lambda x: x.getYob(), reverse=True)\n",
    "\n",
    "    def aveTeacherYob(self):\n",
    "        sum_age = 0\n",
    "        counter = 0\n",
    "        for person in self.__list_people:\n",
    "            if isinstance(person, Teacher):\n",
    "                sum_age += person.getYob()\n",
    "                counter += 1\n",
    "        return sum_age / counter\n",
    "\n",
    "ward1 = Ward('Tamky')\n",
    "\n",
    "student1 = Student('John', 2000, '7')\n",
    "teacher1 = Teacher('Alice', 1980, 'Math')\n",
    "teacher2 = Teacher('Bob', 1970, 'Physics')\n",
    "doctor1 = Doctor('Switch', 1970, 'Heart')\n",
    "doctor2 = Doctor('Manbo', 1980, 'Brain')\n",
    "\n",
    "ward1.addPerson(student1)\n",
    "ward1.addPerson(teacher1)\n",
    "ward1.addPerson(teacher2)\n",
    "ward1.addPerson(doctor1)\n",
    "ward1.addPerson(doctor2)\n",
    "ward1.describe()\n",
    "print('---------------------------------')\n",
    "countDoctor = ward1.countDoctor()\n",
    "print(f'Number of doctor: {countDoctor}')\n",
    "print('---------------------------------')\n",
    "ward1.sortAge()\n",
    "ward1.describe()\n",
    "print('---------------------------------')\n",
    "averageTeacherYob = ward1.aveTeacherYob()\n",
    "print(f'Average Teacher Yob: {averageTeacherYob}')"
   ]
  },
  {
   "cell_type": "markdown",
   "metadata": {},
   "source": [
    "**3. Xây dựng class Stack**"
   ]
  },
  {
   "cell_type": "code",
   "execution_count": 4,
   "metadata": {},
   "outputs": [
    {
     "name": "stdout",
     "output_type": "stream",
     "text": [
      "False\n",
      "2\n",
      "2\n",
      "1\n",
      "1\n",
      "True\n"
     ]
    }
   ],
   "source": [
    "class Stack:\n",
    "    def __init__(self, capacity:int):\n",
    "        self.capacity = capacity\n",
    "        self.stack = list()\n",
    "\n",
    "    def isEmpty(self):\n",
    "        return len(self.stack) == 0\n",
    "\n",
    "    def isFull(self):\n",
    "        return len(self.stack) == self.capacity\n",
    "\n",
    "    def pop(self):\n",
    "        if self.isEmpty():\n",
    "            raise Exception('Underflow')\n",
    "        return self.stack.pop()\n",
    "\n",
    "    def push(self, value):\n",
    "        if self.isFull():\n",
    "            raise Exception('Overflow')\n",
    "        self.stack.append(value)\n",
    "\n",
    "    def top(self):\n",
    "        if self.isEmpty():\n",
    "            print('Stack is empty')\n",
    "            return\n",
    "        return self.stack[-1]\n",
    "\n",
    "stack1 = Stack(5)\n",
    "stack1.push(1)\n",
    "stack1.push(2)\n",
    "print(stack1.isFull())\n",
    "print(stack1.top())\n",
    "print(stack1.pop())\n",
    "print(stack1.top())\n",
    "print(stack1.pop())\n",
    "print(stack1.isEmpty())\n"
   ]
  },
  {
   "cell_type": "markdown",
   "metadata": {},
   "source": [
    "**4. Xây dựng class Queue**"
   ]
  },
  {
   "cell_type": "code",
   "execution_count": 5,
   "metadata": {},
   "outputs": [
    {
     "name": "stdout",
     "output_type": "stream",
     "text": [
      "False\n",
      "1\n",
      "1\n",
      "2\n",
      "2\n",
      "True\n"
     ]
    }
   ],
   "source": [
    "class Queue:\n",
    "    def __init__(self, capacity:int):\n",
    "        self.__capacity = capacity\n",
    "        self.__queue = list()\n",
    "\n",
    "    def isEmpty(self):\n",
    "        return len(self.__queue) == 0\n",
    "\n",
    "    def isFull(self):\n",
    "        return len(self.__queue) == self.__capacity\n",
    "\n",
    "    def dequeue(self):\n",
    "        if self.isEmpty():\n",
    "            raise Exception('Underflow')\n",
    "        return self.__queue.pop(0)\n",
    "\n",
    "    def enqueue(self, value):\n",
    "        if self.isFull():\n",
    "            raise Exception('Overflow')\n",
    "        self.__queue.append(value)\n",
    "\n",
    "    def front(self):\n",
    "        if self.isEmpty():\n",
    "            print('Queue is Empty')\n",
    "            return\n",
    "        return self.__queue[0]\n",
    "\n",
    "queue1 = Queue(capacity=5)\n",
    "\n",
    "queue1.enqueue(1)\n",
    "queue1.enqueue(2)\n",
    "print(queue1.isFull())\n",
    "print(queue1.front())\n",
    "print(queue1.dequeue())\n",
    "print(queue1.front())\n",
    "print(queue1.dequeue())\n",
    "print(queue1.isEmpty())"
   ]
  }
 ],
 "metadata": {
  "kernelspec": {
   "display_name": "base",
   "language": "python",
   "name": "python3"
  },
  "language_info": {
   "codemirror_mode": {
    "name": "ipython",
    "version": 3
   },
   "file_extension": ".py",
   "mimetype": "text/x-python",
   "name": "python",
   "nbconvert_exporter": "python",
   "pygments_lexer": "ipython3",
   "version": "3.12.2"
  }
 },
 "nbformat": 4,
 "nbformat_minor": 2
}
