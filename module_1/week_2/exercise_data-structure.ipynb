{
 "cells": [
  {
   "cell_type": "markdown",
   "metadata": {},
   "source": [
    " <p> 1. Cho một list các số nguyên num_list và một sliding window có kích thước size k di chuyển từ trái sang phải. Mỗi lần dịch chuyển 1 vị trí sang phải có thể nhìn thấy đươc k số trong num_list và tìm số lớn nhất trong k số này sau mỗi lần trượt k phải lớn hơn hoặc bằng 1.</p>\n"
   ]
  },
  {
   "cell_type": "markdown",
   "metadata": {},
   "source": [
    "**Version 1**"
   ]
  },
  {
   "cell_type": "code",
   "execution_count": 8,
   "metadata": {},
   "outputs": [
    {
     "name": "stdout",
     "output_type": "stream",
     "text": [
      "[5, 5, 5, 5, 10, 12, 33, 33]\n"
     ]
    }
   ],
   "source": [
    "import numpy as np\n",
    "\n",
    "num_list = [3, 4, 5, 1, -44, 5, 10, 12, 33, 1]\n",
    "k = 3\n",
    "result = []\n",
    "sub_list = []\n",
    "\n",
    "for i in range(len(num_list)-k+1):\n",
    "    max = np.max(num_list[i:i+k])\n",
    "    result.append(max)\n",
    "\n",
    "print(result)"
   ]
  },
  {
   "cell_type": "markdown",
   "metadata": {},
   "source": [
    "**Version 2**"
   ]
  },
  {
   "cell_type": "code",
   "execution_count": 9,
   "metadata": {},
   "outputs": [
    {
     "name": "stdout",
     "output_type": "stream",
     "text": [
      "[5, 5, 5, 5, 10, 12, 33, 33]\n"
     ]
    }
   ],
   "source": [
    "import numpy as np\n",
    "\n",
    "num_list = [3, 4, 5, 1, -44, 5, 10, 12, 33, 1]\n",
    "k = 3\n",
    "result = []\n",
    "sub_list = []\n",
    "\n",
    "for element in num_list:\n",
    "    sub_list.append(element)\n",
    "\n",
    "    if len(sub_list) == k:\n",
    "        result.append(np.max(sub_list))\n",
    "        sub_list.pop(0)\n",
    "\n",
    "\n",
    "print(result)"
   ]
  },
  {
   "cell_type": "markdown",
   "metadata": {},
   "source": [
    "**Version 3**"
   ]
  },
  {
   "cell_type": "code",
   "execution_count": 13,
   "metadata": {},
   "outputs": [
    {
     "name": "stdout",
     "output_type": "stream",
     "text": [
      "[5, 5, 5, 5, 10, 12, 33, 33]\n"
     ]
    }
   ],
   "source": [
    "import numpy as np\n",
    "\n",
    "num_list = [3, 4, 5, 1, -44, 5, 10, 12, 33, 1]\n",
    "k = 3\n",
    "\n",
    "start_indexs = list(range(len(num_list)-k+1))\n",
    "end_indexs = list(range(k, len(num_list)+1))\n",
    "\n",
    "result = [np.max(num_list[start:end]) for start, end in zip(start_indexs, end_indexs)]\n",
    "print(result)"
   ]
  },
  {
   "cell_type": "markdown",
   "metadata": {},
   "source": [
    "<p>2. Viết function trả về một dictionary đếm số lượng chữ xuất hiện trong một từ, với key là chữ cái và value là số lần xuất hiện.</p>"
   ]
  },
  {
   "cell_type": "code",
   "execution_count": 18,
   "metadata": {},
   "outputs": [
    {
     "data": {
      "text/plain": [
       "{'g': 2, 'o': 3, 'd': 1, 'm': 1, 'r': 1, 'n': 2, 'i': 1}"
      ]
     },
     "execution_count": 18,
     "metadata": {},
     "output_type": "execute_result"
    }
   ],
   "source": [
    "def count_char_string(string):\n",
    "    count = {}\n",
    "    string = string.lower()\n",
    "    for char in string:\n",
    "        if char in count:\n",
    "            count[char] += 1\n",
    "        else:\n",
    "            count[char] = 1\n",
    "    return count\n",
    "\n",
    "String = \"GoodMorning\"\n",
    "count_char_string(String)"
   ]
  },
  {
   "cell_type": "markdown",
   "metadata": {},
   "source": [
    "<p>3. Viết function đọc các câu trong một file txt, đếm số lượng các từ xuất hiện và trả về một dictionary với key là từ và value là số lần từ đó xuất hiện.</p>"
   ]
  },
  {
   "cell_type": "code",
   "execution_count": 19,
   "metadata": {},
   "outputs": [
    {
     "name": "stderr",
     "output_type": "stream",
     "text": [
      "Downloading...\n",
      "From: https://drive.google.com/uc?id=1IBScGdW2xlNsc9v5zSAya548kNgiOrko\n",
      "To: d:\\AIO2024\\module_1\\week_2\\P1_data.txt\n",
      "\n",
      "  0%|          | 0.00/747 [00:00<?, ?B/s]\n",
      "100%|██████████| 747/747 [00:00<?, ?B/s] \n"
     ]
    }
   ],
   "source": [
    "!gdown https://drive.google.com/uc?id=1IBScGdW2xlNsc9v5zSAya548kNgiOrko"
   ]
  },
  {
   "cell_type": "code",
   "execution_count": 27,
   "metadata": {},
   "outputs": [
    {
     "name": "stdout",
     "output_type": "stream",
     "text": [
      "{'he': 1, 'who': 3, 'conquers': 1, 'himself': 1, 'is': 3, 'the': 5, 'mightiest': 1, 'warrior': 1, 'try': 2, 'not': 1, 'to': 3, 'become': 2, 'a': 7, 'man': 6, 'of': 4, 'success': 3, 'but': 1, 'rather': 1, 'value': 1, 'one': 4, 'with': 4, 'courage': 1, 'makes': 1, 'majority': 1, 'secret': 1, 'in': 4, 'life': 2, 'for': 3, 'be': 1, 'ready': 1, 'his': 2, 'opportunity': 1, 'when': 2, 'it': 2, 'comes': 2, 'successful': 2, 'will': 2, 'profit': 1, 'from': 1, 'mistakes': 1, 'and': 1, 'again': 1, 'different': 1, 'way': 1, 'can': 3, 'lay': 1, 'firm': 1, 'foundation': 1, 'bricks': 1, 'others': 1, 'have': 1, 'thrown': 1, 'at': 1, 'him': 1, 'usually': 1, 'those': 1, 'are': 1, 'too': 1, 'busy': 1, 'looking': 1, 'we': 3, 'cannot': 1, 'solve': 1, 'problems': 1, 'kind': 1, 'thinking': 1, 'employed': 1, 'came': 1, 'up': 1, 'them': 1, 'just': 2, 'small': 1, 'positive': 1, 'thought': 1, 'morning': 1, 'change': 1, 'your': 1, 'whole': 1, 'day': 1, 'you': 3, 'get': 2, 'everything': 1, 'want': 2, 'if': 1, 'help': 1, 'enough': 1, 'other': 1, 'people': 1, 'what': 1, 'they': 1}\n"
     ]
    }
   ],
   "source": [
    "def  preprocess_text(sentence):\n",
    "    sentence = sentence.lower()\n",
    "    sentence = sentence.replace(\".\", \"\")\n",
    "    sentence = sentence.replace(\",\", \"\")\n",
    "    sentence = sentence.replace(\"?\", \"\")\n",
    "    sentence = sentence.replace(\"!\", \"\")\n",
    "    sentence = sentence.replace(\";\", \"\")\n",
    "    sentence = sentence.replace(\":\", \"\")\n",
    "    sentence = sentence.replace(\"(\", \"\")\n",
    "    sentence = sentence.replace(\")\", \"\")\n",
    "    sentence = sentence.replace(\"[\", \"\")\n",
    "    sentence = sentence.replace(\"]\", \"\")\n",
    "    sentence = sentence.replace(\"{\", \"\")\n",
    "    sentence = sentence.replace(\"}\", \"\")\n",
    "    sentence = sentence.replace(\"'\", \"\")\n",
    "    sentence = sentence.replace('\"', \"\")\n",
    "    sentence = sentence.replace(\"-\", \"\")\n",
    "    sentence = sentence.replace(\"_\", \"\")\n",
    "    sentence = sentence.replace(\"+\", \"\")\n",
    "    sentence = sentence.replace(\"=\", \"\")\n",
    "    sentence = sentence.replace(\"*\", \"\")\n",
    "    sentence = sentence.replace(\"/\", \"\")\n",
    "    sentence = sentence.replace(\"\\\\\", \"\")\n",
    "    sentence = sentence.replace(\"|\", \"\")\n",
    "    sentence = sentence.replace(\"<\", \"\")\n",
    "    sentence = sentence.replace(\">\", \"\")\n",
    "    words = sentence.split()\n",
    "    return words\n",
    "\n",
    "count = {}\n",
    "with open(\"P1_data.txt\", \"r\") as file:\n",
    "    document = file.read()\n",
    "    document = preprocess_text(document)\n",
    "    for word in document:\n",
    "        if word not in count:\n",
    "            count[word] = 1\n",
    "        else:\n",
    "            count[word] += 1\n",
    "\n",
    "print(count)"
   ]
  },
  {
   "cell_type": "markdown",
   "metadata": {},
   "source": [
    "<p>4. Khoảng cách Levenshtein.</p>"
   ]
  },
  {
   "cell_type": "code",
   "execution_count": 37,
   "metadata": {},
   "outputs": [
    {
     "data": {
      "text/plain": [
       "2"
      ]
     },
     "execution_count": 37,
     "metadata": {},
     "output_type": "execute_result"
    }
   ],
   "source": [
    "def levenshtein_distance(token1, token2):\n",
    "    distance = [[0 for _ in range(len(token2)+1)] for _ in range(len(token1)+1)]\n",
    "\n",
    "    for i in range(len(token1)+1):\n",
    "        distance[i][0] = i\n",
    "    for j in range(len(token2)+1):\n",
    "        distance[0][j] = j\n",
    "\n",
    "    for i in range(1, len(token1)+1):\n",
    "        for j in range(1, len(token2)+1):\n",
    "            if token1[i-1] == token2[j-1]:\n",
    "                distance[i][j] = distance[i-1][j-1]\n",
    "            else:\n",
    "                distance[i][j] = min(distance[i-1][j], distance[i][j-1], distance[i-1][j-1]) + 1\n",
    "\n",
    "    return distance[len(token1)][len(token2)]\n",
    "\n",
    "levenshtein_distance(\"halo\", \"hello\")"
   ]
  }
 ],
 "metadata": {
  "kernelspec": {
   "display_name": "base",
   "language": "python",
   "name": "python3"
  },
  "language_info": {
   "codemirror_mode": {
    "name": "ipython",
    "version": 3
   },
   "file_extension": ".py",
   "mimetype": "text/x-python",
   "name": "python",
   "nbconvert_exporter": "python",
   "pygments_lexer": "ipython3",
   "version": "3.12.2"
  }
 },
 "nbformat": 4,
 "nbformat_minor": 2
}
