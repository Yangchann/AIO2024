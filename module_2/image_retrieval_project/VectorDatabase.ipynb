{
 "cells": [
  {
   "cell_type": "markdown",
   "metadata": {},
   "source": [
    "**Import required packages**"
   ]
  },
  {
   "cell_type": "code",
   "execution_count": null,
   "metadata": {},
   "outputs": [],
   "source": [
    "!pip install -q chromadb\n",
    "!pip show chromadb"
   ]
  },
  {
   "cell_type": "code",
   "execution_count": null,
   "metadata": {},
   "outputs": [],
   "source": [
    "import os\n",
    "import chromadb\n",
    "import numpy as np\n",
    "from tqdm import tqdm\n",
    "from PIL import Image\n",
    "import matplotlib.pyplot as plt\n",
    "from chromadb.utils.embedding_functions import OpenCLIPEmbeddingFunction"
   ]
  },
  {
   "cell_type": "markdown",
   "metadata": {},
   "source": [
    "**Get Data**"
   ]
  },
  {
   "cell_type": "code",
   "execution_count": null,
   "metadata": {},
   "outputs": [],
   "source": [
    "ROOT = \"data\"\n",
    "CLASS_NAME = sorted(os.listdir(f\"{ROOT}/train\"))\n",
    "HNSW_SPACE = \"hnsw:space\""
   ]
  },
  {
   "cell_type": "code",
   "execution_count": null,
   "metadata": {},
   "outputs": [],
   "source": [
    "def get_files_path(path):\n",
    "    files_path = []\n",
    "    for label in CLASS_NAME:\n",
    "        label_path = path + '/' + label\n",
    "        filenames = os.listdir(label_path)\n",
    "        for filename in filenames:\n",
    "            filespath = label_path + '/' + filename\n",
    "            files_path.append(filespath)\n",
    "    return files_path"
   ]
  },
  {
   "cell_type": "code",
   "execution_count": null,
   "metadata": {},
   "outputs": [],
   "source": [
    "files_path = get_files_path(f\"{ROOT}/train\")\n",
    "files_path"
   ]
  },
  {
   "cell_type": "code",
   "execution_count": null,
   "metadata": {},
   "outputs": [],
   "source": [
    "def plot_results(image_path, files_path, results):\n",
    "    query_image = Image.open(image_path).resize((448, 448))\n",
    "    images = [query_image]\n",
    "    class_name = []\n",
    "    for id_img in results['id'][0]:\n",
    "        id_img = int(id_img.split('_')[-1])\n",
    "        img_path = files_path[id_img]\n",
    "        img = Image.open(img_path).resize((448, 448))\n",
    "        images.append(img)\n",
    "        class_name.append(img_path.split('/')[2])\n",
    "\n",
    "    fig, axes =plt.subplots(2, 3, figsize=(12, 8))\n",
    "\n",
    "    for i, ax in enumerate(axes.flat):\n",
    "        ax.imshow(images[i])\n",
    "        if i == 0:\n",
    "            ax.set_title(f\"Query Image: {image_path.split('/')[2]}\")\n",
    "        else:\n",
    "            ax.set_title(f\"Top {i+1}: {class_name[i-1]}\")\n",
    "        ax.axis('off')\n",
    "    plt.show()"
   ]
  },
  {
   "cell_type": "markdown",
   "metadata": {},
   "source": [
    "**Image Embedding**"
   ]
  },
  {
   "cell_type": "code",
   "execution_count": null,
   "metadata": {},
   "outputs": [],
   "source": [
    "embedding_function = OpenCLIPEmbeddingFunction()\n",
    "\n",
    "def get_single_image_embedding(image):\n",
    "    embedding = embedding_function._encode_image(image=np.array(image))\n",
    "    return embedding"
   ]
  },
  {
   "cell_type": "code",
   "execution_count": null,
   "metadata": {},
   "outputs": [],
   "source": [
    "img = Image.open('data/train/African_crocodile/n01697457_260.JPEG')\n",
    "get_single_image_embedding(img)"
   ]
  },
  {
   "cell_type": "markdown",
   "metadata": {},
   "source": [
    "**Chromadb L2 Embedding Collection**"
   ]
  },
  {
   "cell_type": "code",
   "execution_count": null,
   "metadata": {},
   "outputs": [],
   "source": [
    "def add_embedding(collection, files_path):\n",
    "    ids = []\n",
    "    embeddings = []\n",
    "    for id_filepath, filepath in tqdm(enumerate(files_path)):\n",
    "        ids.append(f'id_{id_filepath}')\n",
    "        image = Image.open(filepath)\n",
    "        embedding = get_single_image_embedding(image)\n",
    "        embeddings.append(embedding)\n",
    "    collection.add(ids=ids, embeddings=embeddings)"
   ]
  },
  {
   "cell_type": "code",
   "execution_count": null,
   "metadata": {},
   "outputs": [],
   "source": [
    "chroma_client = chromadb.Client()\n",
    "\n",
    "L2_collection = chroma_client.get_or_create_collection(name=\"l2_collection\",\n",
    "                                                       metadata={HNSW_SPACE: \"l2\"})\n",
    "add_embedding(collection=L2_collection, files_path=files_path)"
   ]
  },
  {
   "cell_type": "markdown",
   "metadata": {},
   "source": [
    "**Search Image With L2 Coollection**"
   ]
  },
  {
   "cell_type": "code",
   "execution_count": null,
   "metadata": {},
   "outputs": [],
   "source": [
    "def search(image_path, collection, n_results):\n",
    "    query_image = Image.open(image_path)\n",
    "    query_embedding = get_single_image_embedding(query_image)\n",
    "    results = collection.query(query_embedding=[query_embedding],\n",
    "                               n_results=n_results)\n",
    "    return results"
   ]
  },
  {
   "cell_type": "code",
   "execution_count": null,
   "metadata": {},
   "outputs": [],
   "source": [
    "test_path = f\"{ROOT}/test\"\n",
    "test_file_path = get_files_path(test_path)\n",
    "test_path = test_file_path[1]\n",
    "l2_results = search(image_path=test_path, collection=L2_collection, n_results=10)\n",
    "print(l2_results)"
   ]
  },
  {
   "cell_type": "code",
   "execution_count": null,
   "metadata": {},
   "outputs": [],
   "source": [
    "plot_results(image_path=test_path, files_path=files_path, results=l2_results)"
   ]
  },
  {
   "cell_type": "markdown",
   "metadata": {},
   "source": [
    "**Search Image With Cosine similarity Collection**"
   ]
  },
  {
   "cell_type": "code",
   "execution_count": null,
   "metadata": {},
   "outputs": [],
   "source": [
    "cosine_collection = chroma_client.get_or_create_collection(name=\"cosine_collection\",\n",
    "                                                           metadata={HNSW_SPACE: \"cosine\"})\n",
    "add_embedding(collection=cosine_collection, files_path=files_path)"
   ]
  },
  {
   "cell_type": "code",
   "execution_count": null,
   "metadata": {},
   "outputs": [],
   "source": [
    "test_path = f\"{ROOT}/test\"\n",
    "test_file_path = get_files_path(test_path)\n",
    "test_path = test_file_path[1]\n",
    "cosine_results = search(image_path=test_path, collection=cosine_collection, n_results=10)"
   ]
  },
  {
   "cell_type": "code",
   "execution_count": null,
   "metadata": {},
   "outputs": [],
   "source": [
    "cosine_results"
   ]
  },
  {
   "cell_type": "code",
   "execution_count": null,
   "metadata": {},
   "outputs": [],
   "source": [
    "plot_results(image_path=test_path, files_path=files_path, results=cosine_results)"
   ]
  }
 ],
 "metadata": {
  "kernelspec": {
   "display_name": "Python 3",
   "language": "python",
   "name": "python3"
  },
  "language_info": {
   "codemirror_mode": {
    "name": "ipython",
    "version": 3
   },
   "file_extension": ".py",
   "mimetype": "text/x-python",
   "name": "python",
   "nbconvert_exporter": "python",
   "pygments_lexer": "ipython3",
   "version": "3.10.0"
  }
 },
 "nbformat": 4,
 "nbformat_minor": 2
}
