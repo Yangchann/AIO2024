{
 "cells": [
  {
   "cell_type": "markdown",
   "metadata": {},
   "source": [
    "**Tsukuba Images**"
   ]
  },
  {
   "cell_type": "code",
   "execution_count": 1,
   "metadata": {},
   "outputs": [
    {
     "name": "stderr",
     "output_type": "stream",
     "text": [
      "C:\\Users\\LENOVO IDEAPAD\\AppData\\Local\\Programs\\Python\\Python311\\Lib\\site-packages\\gdown\\cli.py:127: FutureWarning: Option `--id` was deprecated in version 4.3.1 and will be removed in 5.0. You don't need to pass it anymore to use a file ID.\n",
      "  warnings.warn(\n",
      "Downloading...\n",
      "From: https://drive.google.com/uc?id=14gf8bcym_lTcvjZQmg8kwq3aXkENBxMQ\n",
      "To: d:\\AIO2024\\module_2\\disparity_map\\data\\tsukuba.zip\n",
      "\n",
      "  0%|          | 0.00/354k [00:00<?, ?B/s]\n",
      "100%|██████████| 354k/354k [00:00<00:00, 1.21MB/s]\n",
      "100%|██████████| 354k/354k [00:00<00:00, 1.21MB/s]\n"
     ]
    }
   ],
   "source": [
    "!gdown --id 14gf8bcym_lTcvjZQmg8kwq3aXkENBxMQ"
   ]
  },
  {
   "cell_type": "code",
   "execution_count": 2,
   "metadata": {},
   "outputs": [
    {
     "name": "stdout",
     "output_type": "stream",
     "text": [
      "Archive:  tsukuba.zip\n",
      " extracting: tsukuba/left.png        \n",
      " extracting: tsukuba/right.png       \n",
      " extracting: tsukuba/groundtruth.png  \n"
     ]
    },
    {
     "name": "stderr",
     "output_type": "stream",
     "text": [
      "warning:  stripped absolute path spec from /\n",
      "mapname:  conversion of  failed\n"
     ]
    }
   ],
   "source": [
    "!unzip tsukuba.zip -d tsukuba"
   ]
  },
  {
   "cell_type": "markdown",
   "metadata": {},
   "source": [
    "**Aloe Images**"
   ]
  },
  {
   "cell_type": "code",
   "execution_count": 3,
   "metadata": {},
   "outputs": [
    {
     "name": "stderr",
     "output_type": "stream",
     "text": [
      "C:\\Users\\LENOVO IDEAPAD\\AppData\\Local\\Programs\\Python\\Python311\\Lib\\site-packages\\gdown\\cli.py:127: FutureWarning: Option `--id` was deprecated in version 4.3.1 and will be removed in 5.0. You don't need to pass it anymore to use a file ID.\n",
      "  warnings.warn(\n",
      "Downloading...\n",
      "From: https://drive.google.com/uc?id=1wxmiUdqMciuTOs0ouKEISl8-iTVXdOWn\n",
      "To: d:\\AIO2024\\module_2\\disparity_map\\data\\Aloe_images.zip\n",
      "\n",
      "  0%|          | 0.00/1.32M [00:00<?, ?B/s]\n",
      " 40%|███▉      | 524k/1.32M [00:00<00:00, 1.17MB/s]\n",
      " 80%|███████▉  | 1.05M/1.32M [00:00<00:00, 1.92MB/s]\n",
      "100%|██████████| 1.32M/1.32M [00:00<00:00, 2.17MB/s]\n"
     ]
    }
   ],
   "source": [
    "!gdown --id 1wxmiUdqMciuTOs0ouKEISl8-iTVXdOWn"
   ]
  },
  {
   "cell_type": "code",
   "execution_count": 4,
   "metadata": {},
   "outputs": [
    {
     "name": "stdout",
     "output_type": "stream",
     "text": [
      "Archive:  Aloe_images.zip\n",
      "  inflating: Aloe_images/Aloe/Aloe_left_1.png  \n",
      "  inflating: Aloe_images/Aloe/Aloe_right_3.png  \n",
      "  inflating: Aloe_images/Aloe/Aloe_right_1.png  \n",
      "  inflating: Aloe_images/Aloe/Aloe_right_2.png  \n",
      "  inflating: Aloe_images/Aloe/Disparity_map_corr.png  \n"
     ]
    }
   ],
   "source": [
    "!unzip Aloe_images.zip -d Aloe_images"
   ]
  }
 ],
 "metadata": {
  "kernelspec": {
   "display_name": "Python 3",
   "language": "python",
   "name": "python3"
  },
  "language_info": {
   "codemirror_mode": {
    "name": "ipython",
    "version": 3
   },
   "file_extension": ".py",
   "mimetype": "text/x-python",
   "name": "python",
   "nbconvert_exporter": "python",
   "pygments_lexer": "ipython3",
   "version": "3.11.9"
  }
 },
 "nbformat": 4,
 "nbformat_minor": 2
}
