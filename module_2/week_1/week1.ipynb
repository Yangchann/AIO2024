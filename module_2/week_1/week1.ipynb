{
 "cells": [
  {
   "cell_type": "markdown",
   "metadata": {},
   "source": [
    "## Xử lý ảnh"
   ]
  },
  {
   "cell_type": "code",
   "execution_count": 1,
   "metadata": {},
   "outputs": [
    {
     "name": "stderr",
     "output_type": "stream",
     "text": [
      "Downloading...\n",
      "From: https://drive.google.com/uc?id=1i9dqan21DjQoG5Q_VEvm0LrVwAlXD0vB\n",
      "To: d:\\AIO2024\\module_2\\dog.jpeg\n",
      "\n",
      "  0%|          | 0.00/33.7k [00:00<?, ?B/s]\n",
      "100%|██████████| 33.7k/33.7k [00:00<00:00, 448kB/s]\n"
     ]
    }
   ],
   "source": [
    "!gdown 1i9dqan21DjQoG5Q_VEvm0LrVwAlXD0vB"
   ]
  },
  {
   "cell_type": "code",
   "execution_count": 6,
   "metadata": {},
   "outputs": [
    {
     "data": {
      "text/plain": [
       "102.5"
      ]
     },
     "execution_count": 6,
     "metadata": {},
     "output_type": "execute_result"
    }
   ],
   "source": [
    "# Chuyển ảnh màu sang ảnh xám bằng phương pháp Lightness\n",
    "import matplotlib.image as mpimg\n",
    "import numpy as np\n",
    "\n",
    "img = mpimg.imread('dog.jpeg')\n",
    "gray_img_01 = (np.max(img, axis=2) + np.min(img, axis=2))/2\n",
    "gray_img_01[0, 0]"
   ]
  },
  {
   "cell_type": "code",
   "execution_count": 7,
   "metadata": {},
   "outputs": [
    {
     "data": {
      "text/plain": [
       "107.66666666666667"
      ]
     },
     "execution_count": 7,
     "metadata": {},
     "output_type": "execute_result"
    }
   ],
   "source": [
    "# Chuyển ảnh màu sang ảnh xám bằng phương pháp Average\n",
    "import matplotlib.image as mpimg\n",
    "import numpy as np\n",
    "\n",
    "img = mpimg.imread('dog.jpeg')\n",
    "gray_img_02 = np.mean(img, axis=2)\n",
    "gray_img_02[0, 0]"
   ]
  },
  {
   "cell_type": "code",
   "execution_count": 11,
   "metadata": {},
   "outputs": [
    {
     "data": {
      "text/plain": [
       "126.22999999999999"
      ]
     },
     "execution_count": 11,
     "metadata": {},
     "output_type": "execute_result"
    }
   ],
   "source": [
    "# Chuyển ảnh màu sang ảnh xám bằng phương pháp Luminosity\n",
    "import matplotlib.image as mpimg\n",
    "import numpy as np\n",
    "\n",
    "img = mpimg.imread('dog.jpeg')\n",
    "gray_img_03 = 0.21 * img[:,:,0] + 0.72 * img[:,:,1] + 0.07 * img[:,:,2]\n",
    "gray_img_03[0, 0]"
   ]
  },
  {
   "cell_type": "markdown",
   "metadata": {},
   "source": [
    "## Phân tích dữ liệu dạng bảng"
   ]
  },
  {
   "cell_type": "code",
   "execution_count": 12,
   "metadata": {},
   "outputs": [
    {
     "name": "stderr",
     "output_type": "stream",
     "text": [
      "Downloading...\n",
      "From: https://drive.google.com/uc?id=1iA0WmVfW88HyJvTBSQDI5vesf-pgKabq\n",
      "To: d:\\AIO2024\\module_2\\advertising.csv\n",
      "\n",
      "  0%|          | 0.00/4.06k [00:00<?, ?B/s]\n",
      "100%|██████████| 4.06k/4.06k [00:00<?, ?B/s]\n"
     ]
    }
   ],
   "source": [
    "!gdown 1iA0WmVfW88HyJvTBSQDI5vesf-pgKabq"
   ]
  },
  {
   "cell_type": "code",
   "execution_count": 13,
   "metadata": {},
   "outputs": [],
   "source": [
    "import pandas as pd\n",
    "\n",
    "df = pd.read_csv('advertising.csv')\n",
    "data  = df.to_numpy()"
   ]
  },
  {
   "cell_type": "code",
   "execution_count": 34,
   "metadata": {},
   "outputs": [
    {
     "name": "stdout",
     "output_type": "stream",
     "text": [
      "27.0\n",
      "175\n"
     ]
    }
   ],
   "source": [
    "# Lấy giá trị lớn nhất và chỉ mục tương ứng của nó trên cột Sales\n",
    "max_value = np.max(data[:, 3])\n",
    "max_id = np.argmax(data[:, 3])\n",
    "print(max_value)\n",
    "print(max_id)"
   ]
  },
  {
   "cell_type": "code",
   "execution_count": 37,
   "metadata": {},
   "outputs": [
    {
     "name": "stdout",
     "output_type": "stream",
     "text": [
      "147.0425\n",
      "147.0425\n"
     ]
    }
   ],
   "source": [
    "# Giá trị trung bình của cột TV\n",
    "print(np.mean(data[:, 0]))\n",
    "print(np.mean(df['TV']))"
   ]
  },
  {
   "cell_type": "code",
   "execution_count": 38,
   "metadata": {},
   "outputs": [
    {
     "name": "stdout",
     "output_type": "stream",
     "text": [
      "40\n"
     ]
    }
   ],
   "source": [
    "# Số lượng bản ghi có giá trị tại cột Sales lớn hơn hoặc bằng 20\n",
    "print(np.sum(data[:, 3] >= 20))"
   ]
  },
  {
   "cell_type": "code",
   "execution_count": 44,
   "metadata": {},
   "outputs": [
    {
     "name": "stdout",
     "output_type": "stream",
     "text": [
      "26.22293577981651\n",
      "26.22293577981651\n"
     ]
    }
   ],
   "source": [
    "# Tính giá trị trung bình của cột Radio thoả mãn điều kiện giá trị tương ứng trên cột Sales lớn hơn hoặc bằng 15\n",
    "mean_radio = np.mean([data[index, 1] for index in range(len(data)) if data[index, 3] >= 15])\n",
    "print(mean_radio)\n",
    "print(np.mean(df[df['Sales'] >= 15]['Radio']))\n"
   ]
  },
  {
   "cell_type": "code",
   "execution_count": 53,
   "metadata": {},
   "outputs": [
    {
     "name": "stdout",
     "output_type": "stream",
     "text": [
      "1405.1\n"
     ]
    }
   ],
   "source": [
    "# Tính tổng các hàng của cột Sales với điều kiện giá trị Newspaper lớn hơn giá trị trung bình của cột Newspaper\n",
    "mean_newspaper = np.mean(data[:, 2])\n",
    "sum_sales = np.sum([data[index, 3] for index in range(len(data)) if data[index, 2] > mean_newspaper])\n",
    "print(sum_sales)"
   ]
  },
  {
   "cell_type": "code",
   "execution_count": 54,
   "metadata": {},
   "outputs": [
    {
     "name": "stdout",
     "output_type": "stream",
     "text": [
      "['Bad', 'Bad', 'Good']\n"
     ]
    }
   ],
   "source": [
    "'''\n",
    "Gọi giá trị trung bình của cột Sales là A. Tạo ra mảng mới\n",
    "scores chứa các giá trị Good, Average và Bad sao cho: nếu\n",
    "giá trị hiện tại > A => giá trị trong mảng mới là Good,\n",
    "< A thì sẽ là Bad và = A sẽ là Average.\n",
    "Sau đó in ra kết quả scores[7:10]\n",
    "'''\n",
    "mean_sales = np.mean(data[:, 3])\n",
    "scores = []\n",
    "for index in range(len(data)):\n",
    "    if data[index, 3] > mean_sales:\n",
    "        scores.append('Good')\n",
    "    elif data[index, 3] == mean_sales:\n",
    "        scores.append('Average')\n",
    "    else:\n",
    "        scores.append('Bad')\n",
    "\n",
    "print(scores[7:10])"
   ]
  }
 ],
 "metadata": {
  "kernelspec": {
   "display_name": "base",
   "language": "python",
   "name": "python3"
  },
  "language_info": {
   "codemirror_mode": {
    "name": "ipython",
    "version": 3
   },
   "file_extension": ".py",
   "mimetype": "text/x-python",
   "name": "python",
   "nbconvert_exporter": "python",
   "pygments_lexer": "ipython3",
   "version": "3.12.2"
  }
 },
 "nbformat": 4,
 "nbformat_minor": 2
}
