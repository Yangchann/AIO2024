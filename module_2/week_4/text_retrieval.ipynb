{
 "cells": [
  {
   "cell_type": "code",
   "execution_count": 1,
   "metadata": {},
   "outputs": [
    {
     "name": "stderr",
     "output_type": "stream",
     "text": [
      "Downloading...\n",
      "From: https://drive.google.com/uc?id=1jh2p2DlaWsDo_vEWIcTrNh3mUuXd-cw6\n",
      "To: d:\\AIO2024\\module_2\\week_4\\vi_text_retrieval.csv\n",
      "\n",
      "  0%|          | 0.00/201k [00:00<?, ?B/s]\n",
      "100%|██████████| 201k/201k [00:00<00:00, 1.03MB/s]\n",
      "100%|██████████| 201k/201k [00:00<00:00, 1.02MB/s]\n"
     ]
    }
   ],
   "source": [
    "!gdown 1jh2p2DlaWsDo_vEWIcTrNh3mUuXd-cw6"
   ]
  },
  {
   "cell_type": "code",
   "execution_count": 44,
   "metadata": {},
   "outputs": [
    {
     "data": {
      "text/plain": [
       "0.31126580760710637"
      ]
     },
     "execution_count": 44,
     "metadata": {},
     "output_type": "execute_result"
    }
   ],
   "source": [
    "import pandas as pd\n",
    "import numpy as np\n",
    "from sklearn.metrics.pairwise import cosine_similarity\n",
    "from sklearn.feature_extraction.text import TfidfVectorizer\n",
    "\n",
    "vi_data_df = pd.read_csv(\"./vi_text_retrieval.csv\")\n",
    "context = vi_data_df['text']\n",
    "context = [doc.lower() for doc in context]\n",
    "\n",
    "tfidf_vectorizer = TfidfVectorizer()\n",
    "context_embedded = tfidf_vectorizer.fit_transform(context)\n",
    "context_embedded.toarray()[7][0]\n"
   ]
  },
  {
   "cell_type": "markdown",
   "metadata": {},
   "source": [
    "**Tính độ tương đồng cosine**"
   ]
  },
  {
   "cell_type": "code",
   "execution_count": 48,
   "metadata": {},
   "outputs": [
    {
     "data": {
      "text/plain": [
       "0.6279910475266974"
      ]
     },
     "execution_count": 48,
     "metadata": {},
     "output_type": "execute_result"
    }
   ],
   "source": [
    "def tfidf_search(question, tfidf_vectorizer, top_d=5):\n",
    "    question = question.lower()\n",
    "    query_embedded = tfidf_vectorizer.transform([question])\n",
    "    cosine_scores = cosine_similarity(context_embedded, query_embedded).reshape((-1,))\n",
    "\n",
    "    results = []\n",
    "    for idx in cosine_scores.argsort()[-top_d:][::-1]:\n",
    "        doc_score = {\n",
    "            'id': idx,\n",
    "            'cosine_score': cosine_scores[idx]\n",
    "        }\n",
    "        results.append(doc_score)\n",
    "    return results\n",
    "\n",
    "question = vi_data_df.iloc[0]['question']\n",
    "result = tfidf_search(question, tfidf_vectorizer, top_d=5)\n",
    "result[0]['cosine_score']"
   ]
  },
  {
   "cell_type": "markdown",
   "metadata": {},
   "source": [
    "**Tính độ tương đồng correlation**"
   ]
  },
  {
   "cell_type": "code",
   "execution_count": 51,
   "metadata": {},
   "outputs": [
    {
     "data": {
      "text/plain": [
       "0.20734246471973702"
      ]
     },
     "execution_count": 51,
     "metadata": {},
     "output_type": "execute_result"
    }
   ],
   "source": [
    "from scipy.stats import pearsonr\n",
    "\n",
    "def corr_search(question, tfidf_vectorizer, top_d=5):\n",
    "    question = question.lower()\n",
    "    query_embedded = tfidf_vectorizer.transform([question])\n",
    "    corr_scores = np.corrcoef(query_embedded.toarray()[0], context_embedded.toarray())\n",
    "    corr_scores = corr_scores[0][1:]\n",
    "\n",
    "    results = []\n",
    "    for idx in corr_scores.argsort()[-top_d:][::-1]:\n",
    "        doc_score = {\n",
    "            'id': idx,\n",
    "            'corr_score': corr_scores[idx]\n",
    "        }\n",
    "        results.append(doc_score)\n",
    "    return results\n",
    "\n",
    "question = vi_data_df.iloc[0]['question']\n",
    "result = corr_search(question, tfidf_vectorizer, top_d=5)\n",
    "result[1]['corr_score']"
   ]
  }
 ],
 "metadata": {
  "kernelspec": {
   "display_name": "base",
   "language": "python",
   "name": "python3"
  },
  "language_info": {
   "codemirror_mode": {
    "name": "ipython",
    "version": 3
   },
   "file_extension": ".py",
   "mimetype": "text/x-python",
   "name": "python",
   "nbconvert_exporter": "python",
   "pygments_lexer": "ipython3",
   "version": "3.12.2"
  }
 },
 "nbformat": 4,
 "nbformat_minor": 2
}
