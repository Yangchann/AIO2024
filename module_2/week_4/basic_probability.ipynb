{
 "cells": [
  {
   "cell_type": "code",
   "execution_count": 16,
   "metadata": {},
   "outputs": [
    {
     "name": "stdout",
     "output_type": "stream",
     "text": [
      "Mean: 1.8\n"
     ]
    }
   ],
   "source": [
    "import numpy as np\n",
    "\n",
    "def compute_means(X):\n",
    "    N = len(X)\n",
    "    mean = 0\n",
    "    for i in range(N):\n",
    "        mean += X[i]\n",
    "    mean = mean/N\n",
    "    return mean\n",
    "\n",
    "X = [2, 0, 2, 2, 7, 4, -2, 5, -1, -1]\n",
    "print(\"Mean:\", compute_means(X))"
   ]
  },
  {
   "cell_type": "code",
   "execution_count": 12,
   "metadata": {},
   "outputs": [
    {
     "name": "stdout",
     "output_type": "stream",
     "text": [
      "[1, 4, 4, 5, 9, 13]\n",
      "Median: 4.5\n"
     ]
    }
   ],
   "source": [
    "def compute_median(X):\n",
    "    X.sort()\n",
    "    print(X)\n",
    "    n = len(X)\n",
    "    if n % 2 == 0:\n",
    "        median = (X[n//2-1] + X[n//2]) / 2\n",
    "    else:\n",
    "        median = X[n//2]\n",
    "    return median\n",
    "\n",
    "X = [1, 5, 4, 4, 9, 13]\n",
    "print(\"Median:\", compute_median(X))"
   ]
  },
  {
   "cell_type": "code",
   "execution_count": 13,
   "metadata": {},
   "outputs": [
    {
     "name": "stdout",
     "output_type": "stream",
     "text": [
      "Std: 8.32666399786453\n"
     ]
    }
   ],
   "source": [
    "def compute_std(X):\n",
    "    mean = compute_means(X)\n",
    "    variance = 0\n",
    "    for x in X:\n",
    "        variance += (x - mean) ** 2\n",
    "    variance /= len(X)\n",
    "    std = np.sqrt(variance)\n",
    "    return std\n",
    "\n",
    "X = [171, 176, 155, 167, 169, 182]\n",
    "print(\"Std:\", compute_std(X))"
   ]
  },
  {
   "cell_type": "code",
   "execution_count": 15,
   "metadata": {},
   "outputs": [
    {
     "name": "stdout",
     "output_type": "stream",
     "text": [
      "Correlation coefficient: 0.42\n"
     ]
    }
   ],
   "source": [
    "def compute_correlation_coefficient(X, Y):\n",
    "    N = len(X)\n",
    "    numerator = 0\n",
    "    demoninator = 0\n",
    "    mean_X = compute_means(X)\n",
    "    mean_Y = compute_means(Y)\n",
    "    std_X = compute_std(X)\n",
    "    std_Y = compute_std(Y)\n",
    "    for i in range(N):\n",
    "        numerator += (X[i] - mean_X) * (Y[i] - mean_Y)\n",
    "    numerator /= N\n",
    "    demoninator = std_X * std_Y\n",
    "\n",
    "    return np.round(numerator / demoninator, 2)\n",
    "\n",
    "X = np.asarray([-2, -5, -11, 6, 4, 15, 9])\n",
    "Y = np.asarray([4, 25, 121, 36, 16, 225, 81])\n",
    "print(\"Correlation coefficient:\", compute_correlation_coefficient(X, Y))"
   ]
  }
 ],
 "metadata": {
  "kernelspec": {
   "display_name": "base",
   "language": "python",
   "name": "python3"
  },
  "language_info": {
   "codemirror_mode": {
    "name": "ipython",
    "version": 3
   },
   "file_extension": ".py",
   "mimetype": "text/x-python",
   "name": "python",
   "nbconvert_exporter": "python",
   "pygments_lexer": "ipython3",
   "version": "3.12.2"
  }
 },
 "nbformat": 4,
 "nbformat_minor": 2
}
